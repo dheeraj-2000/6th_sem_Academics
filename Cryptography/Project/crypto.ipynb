{
 "cells": [
  {
   "cell_type": "markdown",
   "metadata": {},
   "source": [
    "# Finding Method of Databreach from various incidents description using Various Machine Learning Techniques"
   ]
  },
  {
   "cell_type": "code",
   "execution_count": 1,
   "metadata": {},
   "outputs": [],
   "source": [
    "import numpy as np\n",
    "import pandas as pd\n",
    "from sklearn.model_selection import train_test_split\n",
    "from sklearn.feature_extraction.text import CountVectorizer\n",
    "from sklearn.feature_extraction.text import TfidfTransformer\n",
    "from sklearn.naive_bayes import MultinomialNB\n",
    "from sklearn.pipeline import Pipeline\n",
    "from sklearn import metrics\n",
    "from sklearn.ensemble import RandomForestClassifier\n",
    "import nltk\n",
    "from nltk.tokenize import RegexpTokenizer\n"
   ]
  },
  {
   "cell_type": "code",
   "execution_count": 72,
   "metadata": {},
   "outputs": [
    {
     "data": {
      "text/html": [
       "<div>\n",
       "<style scoped>\n",
       "    .dataframe tbody tr th:only-of-type {\n",
       "        vertical-align: middle;\n",
       "    }\n",
       "\n",
       "    .dataframe tbody tr th {\n",
       "        vertical-align: top;\n",
       "    }\n",
       "\n",
       "    .dataframe thead th {\n",
       "        text-align: right;\n",
       "    }\n",
       "</style>\n",
       "<table border=\"1\" class=\"dataframe\">\n",
       "  <thead>\n",
       "    <tr style=\"text-align: right;\">\n",
       "      <th></th>\n",
       "      <th>Entity</th>\n",
       "      <th>Story</th>\n",
       "      <th>Year</th>\n",
       "      <th>Records Lost</th>\n",
       "      <th>Sector</th>\n",
       "      <th>Method of Leak</th>\n",
       "    </tr>\n",
       "  </thead>\n",
       "  <tbody>\n",
       "    <tr>\n",
       "      <th>0</th>\n",
       "      <td>River City Media</td>\n",
       "      <td>A dodgy backup has allegedly resulted in over ...</td>\n",
       "      <td>2017</td>\n",
       "      <td>1</td>\n",
       "      <td>NaN</td>\n",
       "      <td>Web</td>\n",
       "    </tr>\n",
       "    <tr>\n",
       "      <th>1</th>\n",
       "      <td>Unique Identification Authority of India</td>\n",
       "      <td>A report says that full data base has been exp...</td>\n",
       "      <td>2017</td>\n",
       "      <td>1000000000</td>\n",
       "      <td>Government</td>\n",
       "      <td>Poor security</td>\n",
       "    </tr>\n",
       "    <tr>\n",
       "      <th>2</th>\n",
       "      <td>Spambot</td>\n",
       "      <td>A misconfigured spambot has leaked over 700m r...</td>\n",
       "      <td>2017</td>\n",
       "      <td>7</td>\n",
       "      <td>NaN</td>\n",
       "      <td>Web</td>\n",
       "    </tr>\n",
       "    <tr>\n",
       "      <th>3</th>\n",
       "      <td>Friend Finder Network</td>\n",
       "      <td>Usernames, email addresses, passwords for site...</td>\n",
       "      <td>2016</td>\n",
       "      <td>4</td>\n",
       "      <td>NaN</td>\n",
       "      <td>Web</td>\n",
       "    </tr>\n",
       "    <tr>\n",
       "      <th>4</th>\n",
       "      <td>Equifax</td>\n",
       "      <td>If you have a credit report, there’s a good ch...</td>\n",
       "      <td>2017</td>\n",
       "      <td>1</td>\n",
       "      <td>NaN</td>\n",
       "      <td>Financial</td>\n",
       "    </tr>\n",
       "  </tbody>\n",
       "</table>\n",
       "</div>"
      ],
      "text/plain": [
       "                                     Entity  \\\n",
       "0                          River City Media   \n",
       "1  Unique Identification Authority of India   \n",
       "2                                   Spambot   \n",
       "3                     Friend Finder Network   \n",
       "4                                   Equifax   \n",
       "\n",
       "                                               Story  Year  Records Lost  \\\n",
       "0  A dodgy backup has allegedly resulted in over ...  2017             1   \n",
       "1  A report says that full data base has been exp...  2017    1000000000   \n",
       "2  A misconfigured spambot has leaked over 700m r...  2017             7   \n",
       "3  Usernames, email addresses, passwords for site...  2016             4   \n",
       "4  If you have a credit report, there’s a good ch...  2017             1   \n",
       "\n",
       "       Sector Method of Leak  \n",
       "0         NaN            Web  \n",
       "1  Government  Poor security  \n",
       "2         NaN            Web  \n",
       "3         NaN            Web  \n",
       "4         NaN      Financial  "
      ]
     },
     "execution_count": 72,
     "metadata": {},
     "output_type": "execute_result"
    }
   ],
   "source": [
    "df = pd.read_csv('/home/samroadie/Desktop/CRYPTO_PROJECT/Data_Breaches.csv')\n",
    "df.head()"
   ]
  },
  {
   "cell_type": "code",
   "execution_count": 73,
   "metadata": {},
   "outputs": [
    {
     "data": {
      "text/plain": [
       "Hacked                           136\n",
       "Lost / stolen device or media     46\n",
       "Web                               21\n",
       "Inside job                        18\n",
       "Accidentally published            16\n",
       "Poor security                     15\n",
       "Financial                          4\n",
       "Gaming                             4\n",
       "Government                         3\n",
       "Tech                               2\n",
       "Retail                             2\n",
       "Healthcare                         1\n",
       "App                                1\n",
       "Telecoms                           1\n",
       "Name: Method of Leak, dtype: int64"
      ]
     },
     "execution_count": 73,
     "metadata": {},
     "output_type": "execute_result"
    }
   ],
   "source": [
    "df['Method of Leak'].value_counts()"
   ]
  },
  {
   "cell_type": "code",
   "execution_count": 74,
   "metadata": {},
   "outputs": [],
   "source": [
    "df = df.dropna()"
   ]
  },
  {
   "cell_type": "code",
   "execution_count": 127,
   "metadata": {},
   "outputs": [
    {
     "data": {
      "text/html": [
       "<div>\n",
       "<style scoped>\n",
       "    .dataframe tbody tr th:only-of-type {\n",
       "        vertical-align: middle;\n",
       "    }\n",
       "\n",
       "    .dataframe tbody tr th {\n",
       "        vertical-align: top;\n",
       "    }\n",
       "\n",
       "    .dataframe thead th {\n",
       "        text-align: right;\n",
       "    }\n",
       "</style>\n",
       "<table border=\"1\" class=\"dataframe\">\n",
       "  <thead>\n",
       "    <tr style=\"text-align: right;\">\n",
       "      <th></th>\n",
       "      <th>Entity</th>\n",
       "      <th>Story</th>\n",
       "      <th>Year</th>\n",
       "      <th>Records Lost</th>\n",
       "      <th>Sector</th>\n",
       "      <th>Method of Leak</th>\n",
       "      <th>label</th>\n",
       "    </tr>\n",
       "  </thead>\n",
       "  <tbody>\n",
       "    <tr>\n",
       "      <th>1</th>\n",
       "      <td>Unique Identification Authority of India</td>\n",
       "      <td>A report says that full data base has been exp...</td>\n",
       "      <td>2017</td>\n",
       "      <td>1000000000</td>\n",
       "      <td>Government</td>\n",
       "      <td>Poor security</td>\n",
       "      <td>4.0</td>\n",
       "    </tr>\n",
       "    <tr>\n",
       "      <th>5</th>\n",
       "      <td>Dailymotion</td>\n",
       "      <td>85.2m email addresses extracted, but only 18.3...</td>\n",
       "      <td>2016</td>\n",
       "      <td>85200000</td>\n",
       "      <td>Web</td>\n",
       "      <td>Hacked</td>\n",
       "      <td>0.0</td>\n",
       "    </tr>\n",
       "    <tr>\n",
       "      <th>6</th>\n",
       "      <td>Malaysian telcos &amp; MVNOs</td>\n",
       "      <td>Oct. Data from numerous Malaysian telco &amp; MVNO...</td>\n",
       "      <td>2014</td>\n",
       "      <td>46200000</td>\n",
       "      <td>Telecoms</td>\n",
       "      <td>Hacked</td>\n",
       "      <td>0.0</td>\n",
       "    </tr>\n",
       "    <tr>\n",
       "      <th>9</th>\n",
       "      <td>Al.type</td>\n",
       "      <td>Dec. The app's developer failed to secure the ...</td>\n",
       "      <td>2017</td>\n",
       "      <td>31293959</td>\n",
       "      <td>App</td>\n",
       "      <td>Poor security</td>\n",
       "      <td>4.0</td>\n",
       "    </tr>\n",
       "    <tr>\n",
       "      <th>12</th>\n",
       "      <td>Interpark</td>\n",
       "      <td>July. South Korean police are blaming North Ko...</td>\n",
       "      <td>2016</td>\n",
       "      <td>10000000</td>\n",
       "      <td>Web</td>\n",
       "      <td>Hacked</td>\n",
       "      <td>0.0</td>\n",
       "    </tr>\n",
       "  </tbody>\n",
       "</table>\n",
       "</div>"
      ],
      "text/plain": [
       "                                      Entity  \\\n",
       "1   Unique Identification Authority of India   \n",
       "5                                Dailymotion   \n",
       "6                   Malaysian telcos & MVNOs   \n",
       "9                                    Al.type   \n",
       "12                                 Interpark   \n",
       "\n",
       "                                                Story  Year  Records Lost  \\\n",
       "1   A report says that full data base has been exp...  2017    1000000000   \n",
       "5   85.2m email addresses extracted, but only 18.3...  2016      85200000   \n",
       "6   Oct. Data from numerous Malaysian telco & MVNO...  2014      46200000   \n",
       "9   Dec. The app's developer failed to secure the ...  2017      31293959   \n",
       "12  July. South Korean police are blaming North Ko...  2016      10000000   \n",
       "\n",
       "        Sector Method of Leak  label  \n",
       "1   Government  Poor security    4.0  \n",
       "5          Web         Hacked    0.0  \n",
       "6     Telecoms         Hacked    0.0  \n",
       "9          App  Poor security    4.0  \n",
       "12         Web         Hacked    0.0  "
      ]
     },
     "execution_count": 127,
     "metadata": {},
     "output_type": "execute_result"
    }
   ],
   "source": [
    "df.head()"
   ]
  },
  {
   "cell_type": "code",
   "execution_count": 83,
   "metadata": {},
   "outputs": [
    {
     "data": {
      "text/plain": [
       "Hacked                           118\n",
       "Lost / stolen device or media     42\n",
       "Inside job                        16\n",
       "Accidentally published            14\n",
       "Poor security                     13\n",
       "Name: Method of Leak, dtype: int64"
      ]
     },
     "execution_count": 83,
     "metadata": {},
     "output_type": "execute_result"
    }
   ],
   "source": [
    "df['Method of Leak'].value_counts()"
   ]
  },
  {
   "cell_type": "code",
   "execution_count": 84,
   "metadata": {},
   "outputs": [
    {
     "data": {
      "text/plain": [
       "Web           51\n",
       "Government    41\n",
       "Healthcare    32\n",
       "Financial     24\n",
       "Telecoms      10\n",
       "Retail         9\n",
       "Tech           8\n",
       "App            6\n",
       "Academia       6\n",
       "Gaming         5\n",
       "Energy         3\n",
       "Transport      3\n",
       "Media          3\n",
       "Legal          1\n",
       "Military       1\n",
       "Name: Sector, dtype: int64"
      ]
     },
     "execution_count": 84,
     "metadata": {},
     "output_type": "execute_result"
    }
   ],
   "source": [
    "df['Sector'].value_counts()"
   ]
  },
  {
   "cell_type": "code",
   "execution_count": 85,
   "metadata": {},
   "outputs": [],
   "source": [
    "df[\"label\"] = df['Method of Leak'].map({'Hacked':0,     \n",
    "'Lost / stolen device or media':1,\n",
    "'Inside job ' : 2,\n",
    "'Accidentally published' : 3,\n",
    "'Poor security' : 4 })"
   ]
  },
  {
   "cell_type": "code",
   "execution_count": 112,
   "metadata": {},
   "outputs": [
    {
     "data": {
      "text/plain": [
       "1      4.0\n",
       "5      0.0\n",
       "6      0.0\n",
       "9      4.0\n",
       "12     0.0\n",
       "      ... \n",
       "262    0.0\n",
       "264    1.0\n",
       "265    0.0\n",
       "266    1.0\n",
       "267    1.0\n",
       "Name: label, Length: 203, dtype: float64"
      ]
     },
     "execution_count": 112,
     "metadata": {},
     "output_type": "execute_result"
    }
   ],
   "source": [
    "df['label']"
   ]
  },
  {
   "cell_type": "code",
   "execution_count": 121,
   "metadata": {},
   "outputs": [],
   "source": [
    "dfmodel = pd.DataFrame()"
   ]
  },
  {
   "cell_type": "code",
   "execution_count": 122,
   "metadata": {},
   "outputs": [],
   "source": [
    "dfmodel['Story'] = df['Story']"
   ]
  },
  {
   "cell_type": "code",
   "execution_count": 123,
   "metadata": {},
   "outputs": [],
   "source": [
    "dfmodel['label'] = df['label']"
   ]
  },
  {
   "cell_type": "code",
   "execution_count": 125,
   "metadata": {},
   "outputs": [],
   "source": [
    "dfmodel = dfmodel.dropna()"
   ]
  },
  {
   "cell_type": "code",
   "execution_count": 132,
   "metadata": {},
   "outputs": [
    {
     "data": {
      "text/html": [
       "<div>\n",
       "<style scoped>\n",
       "    .dataframe tbody tr th:only-of-type {\n",
       "        vertical-align: middle;\n",
       "    }\n",
       "\n",
       "    .dataframe tbody tr th {\n",
       "        vertical-align: top;\n",
       "    }\n",
       "\n",
       "    .dataframe thead th {\n",
       "        text-align: right;\n",
       "    }\n",
       "</style>\n",
       "<table border=\"1\" class=\"dataframe\">\n",
       "  <thead>\n",
       "    <tr style=\"text-align: right;\">\n",
       "      <th></th>\n",
       "      <th>Story</th>\n",
       "      <th>label</th>\n",
       "    </tr>\n",
       "  </thead>\n",
       "  <tbody>\n",
       "    <tr>\n",
       "      <th>1</th>\n",
       "      <td>A report says that full data base has been exp...</td>\n",
       "      <td>4.0</td>\n",
       "    </tr>\n",
       "    <tr>\n",
       "      <th>5</th>\n",
       "      <td>85.2m email addresses extracted, but only 18.3...</td>\n",
       "      <td>0.0</td>\n",
       "    </tr>\n",
       "    <tr>\n",
       "      <th>6</th>\n",
       "      <td>Oct. Data from numerous Malaysian telco &amp; MVNO...</td>\n",
       "      <td>0.0</td>\n",
       "    </tr>\n",
       "    <tr>\n",
       "      <th>9</th>\n",
       "      <td>Dec. The app's developer failed to secure the ...</td>\n",
       "      <td>4.0</td>\n",
       "    </tr>\n",
       "    <tr>\n",
       "      <th>12</th>\n",
       "      <td>July. South Korean police are blaming North Ko...</td>\n",
       "      <td>0.0</td>\n",
       "    </tr>\n",
       "    <tr>\n",
       "      <th>...</th>\n",
       "      <td>...</td>\n",
       "      <td>...</td>\n",
       "    </tr>\n",
       "    <tr>\n",
       "      <th>262</th>\n",
       "      <td>Press report: Tokyo police have arrested two m...</td>\n",
       "      <td>0.0</td>\n",
       "    </tr>\n",
       "    <tr>\n",
       "      <th>264</th>\n",
       "      <td>Laptop lost/stolen containing employee data: n...</td>\n",
       "      <td>1.0</td>\n",
       "    </tr>\n",
       "    <tr>\n",
       "      <th>265</th>\n",
       "      <td>CardSystems was fingered by MasterCard after i...</td>\n",
       "      <td>0.0</td>\n",
       "    </tr>\n",
       "    <tr>\n",
       "      <th>266</th>\n",
       "      <td>Blame the messenger! A box of computer tapes c...</td>\n",
       "      <td>1.0</td>\n",
       "    </tr>\n",
       "    <tr>\n",
       "      <th>267</th>\n",
       "      <td>Computer backup tape containing personal infor...</td>\n",
       "      <td>1.0</td>\n",
       "    </tr>\n",
       "  </tbody>\n",
       "</table>\n",
       "<p>187 rows × 2 columns</p>\n",
       "</div>"
      ],
      "text/plain": [
       "                                                 Story  label\n",
       "1    A report says that full data base has been exp...    4.0\n",
       "5    85.2m email addresses extracted, but only 18.3...    0.0\n",
       "6    Oct. Data from numerous Malaysian telco & MVNO...    0.0\n",
       "9    Dec. The app's developer failed to secure the ...    4.0\n",
       "12   July. South Korean police are blaming North Ko...    0.0\n",
       "..                                                 ...    ...\n",
       "262  Press report: Tokyo police have arrested two m...    0.0\n",
       "264  Laptop lost/stolen containing employee data: n...    1.0\n",
       "265  CardSystems was fingered by MasterCard after i...    0.0\n",
       "266  Blame the messenger! A box of computer tapes c...    1.0\n",
       "267  Computer backup tape containing personal infor...    1.0\n",
       "\n",
       "[187 rows x 2 columns]"
      ]
     },
     "execution_count": 132,
     "metadata": {},
     "output_type": "execute_result"
    }
   ],
   "source": [
    "dfmodel"
   ]
  },
  {
   "cell_type": "code",
   "execution_count": 133,
   "metadata": {},
   "outputs": [],
   "source": [
    "token = RegexpTokenizer(r'[a-zA-Z0-9]+')\n",
    "cv = CountVectorizer(lowercase=True,stop_words='english',ngram_range = (1,1),tokenizer = token.tokenize)\n",
    "text_counts= cv.fit_transform(dfmodel['Story'])"
   ]
  },
  {
   "cell_type": "code",
   "execution_count": 142,
   "metadata": {},
   "outputs": [],
   "source": [
    "X_train, X_test, y_train, y_test = train_test_split(\n",
    "    text_counts, dfmodel['label'], test_size=0.2, random_state=1)"
   ]
  },
  {
   "cell_type": "markdown",
   "metadata": {},
   "source": [
    "# Using Multinomial Naive Bayes classifier "
   ]
  },
  {
   "cell_type": "code",
   "execution_count": 148,
   "metadata": {},
   "outputs": [],
   "source": [
    "Model1 = MultinomialNB().fit(X_train, y_train)\n",
    "md1predicted= Model1.predict(X_test)\n"
   ]
  },
  {
   "cell_type": "code",
   "execution_count": 149,
   "metadata": {},
   "outputs": [
    {
     "name": "stdout",
     "output_type": "stream",
     "text": [
      "MultinomialNB Accuracy: 0.7894736842105263\n"
     ]
    }
   ],
   "source": [
    "print(\"MultinomialNB Accuracy:\",metrics.accuracy_score(y_test, md1predicted))"
   ]
  },
  {
   "cell_type": "code",
   "execution_count": 150,
   "metadata": {},
   "outputs": [
    {
     "name": "stdout",
     "output_type": "stream",
     "text": [
      "confusion_matrix [[20  2  1  3]\n",
      " [ 0  8  0  0]\n",
      " [ 2  0  2  0]\n",
      " [ 0  0  0  0]]\n"
     ]
    }
   ],
   "source": [
    "print(\"confusion_matrix\",confusion_matrix(y_test,md1predicted))"
   ]
  },
  {
   "cell_type": "code",
   "execution_count": 159,
   "metadata": {},
   "outputs": [
    {
     "name": "stdout",
     "output_type": "stream",
     "text": [
      "classification_report\n",
      "              precision    recall  f1-score   support\n",
      "\n",
      "         0.0       0.91      0.77      0.83        26\n",
      "         1.0       0.80      1.00      0.89         8\n",
      "         3.0       0.67      0.50      0.57         4\n",
      "         4.0       0.00      0.00      0.00         0\n",
      "\n",
      "    accuracy                           0.79        38\n",
      "   macro avg       0.59      0.57      0.57        38\n",
      "weighted avg       0.86      0.79      0.82        38\n",
      "\n"
     ]
    },
    {
     "name": "stderr",
     "output_type": "stream",
     "text": [
      "/home/samroadie/somy/lib/python3.6/site-packages/sklearn/metrics/_classification.py:1272: UndefinedMetricWarning: Recall and F-score are ill-defined and being set to 0.0 in labels with no true samples. Use `zero_division` parameter to control this behavior.\n",
      "  _warn_prf(average, modifier, msg_start, len(result))\n"
     ]
    }
   ],
   "source": [
    "print(\"classification_report\")\n",
    "print(classification_report(y_test,md1predicted))"
   ]
  },
  {
   "cell_type": "markdown",
   "metadata": {},
   "source": [
    "# Using Random Forest"
   ]
  },
  {
   "cell_type": "code",
   "execution_count": 152,
   "metadata": {},
   "outputs": [
    {
     "data": {
      "text/plain": [
       "RandomForestClassifier(bootstrap=True, ccp_alpha=0.0, class_weight=None,\n",
       "                       criterion='gini', max_depth=None, max_features='auto',\n",
       "                       max_leaf_nodes=None, max_samples=None,\n",
       "                       min_impurity_decrease=0.0, min_impurity_split=None,\n",
       "                       min_samples_leaf=1, min_samples_split=2,\n",
       "                       min_weight_fraction_leaf=0.0, n_estimators=1000,\n",
       "                       n_jobs=None, oob_score=False, random_state=0, verbose=0,\n",
       "                       warm_start=False)"
      ]
     },
     "execution_count": 152,
     "metadata": {},
     "output_type": "execute_result"
    }
   ],
   "source": [
    "model2 = RandomForestClassifier(n_estimators=1000, random_state=0)\n",
    "model2.fit(X_train, y_train)"
   ]
  },
  {
   "cell_type": "code",
   "execution_count": 153,
   "metadata": {},
   "outputs": [],
   "source": [
    "md2predicted = model2.predict(X_test)"
   ]
  },
  {
   "cell_type": "code",
   "execution_count": 155,
   "metadata": {},
   "outputs": [
    {
     "name": "stdout",
     "output_type": "stream",
     "text": [
      "Random Forest Accuracy 0.868421052631579\n"
     ]
    }
   ],
   "source": [
    "print(\"Random Forest Accuracy\",metrics.accuracy_score(y_test, md2predicted))"
   ]
  },
  {
   "cell_type": "code",
   "execution_count": 156,
   "metadata": {},
   "outputs": [
    {
     "name": "stdout",
     "output_type": "stream",
     "text": [
      "confusion_matrix [[26  0  0]\n",
      " [ 1  7  0]\n",
      " [ 4  0  0]]\n"
     ]
    }
   ],
   "source": [
    "print(\"confusion_matrix\",confusion_matrix(y_test,md2predicted))"
   ]
  },
  {
   "cell_type": "code",
   "execution_count": 158,
   "metadata": {},
   "outputs": [
    {
     "name": "stdout",
     "output_type": "stream",
     "text": [
      "classification_report\n",
      "              precision    recall  f1-score   support\n",
      "\n",
      "         0.0       0.84      1.00      0.91        26\n",
      "         1.0       1.00      0.88      0.93         8\n",
      "         3.0       0.00      0.00      0.00         4\n",
      "\n",
      "    accuracy                           0.87        38\n",
      "   macro avg       0.61      0.62      0.62        38\n",
      "weighted avg       0.78      0.87      0.82        38\n",
      "\n"
     ]
    }
   ],
   "source": [
    "print(\"classification_report\")\n",
    "print(classification_report(y_test,md2predicted))"
   ]
  },
  {
   "cell_type": "code",
   "execution_count": null,
   "metadata": {},
   "outputs": [],
   "source": []
  }
 ],
 "metadata": {
  "kernelspec": {
   "display_name": "Python 3",
   "language": "python",
   "name": "python3"
  },
  "language_info": {
   "codemirror_mode": {
    "name": "ipython",
    "version": 3
   },
   "file_extension": ".py",
   "mimetype": "text/x-python",
   "name": "python",
   "nbconvert_exporter": "python",
   "pygments_lexer": "ipython3",
   "version": "3.6.8"
  }
 },
 "nbformat": 4,
 "nbformat_minor": 2
}
