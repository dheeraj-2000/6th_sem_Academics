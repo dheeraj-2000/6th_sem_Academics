{
 "cells": [
  {
   "cell_type": "code",
   "execution_count": null,
   "metadata": {},
   "outputs": [],
   "source": [
    "# In this we are using summary (description of incident happened) to predict its information source."
   ]
  },
  {
   "cell_type": "code",
   "execution_count": 1,
   "metadata": {},
   "outputs": [],
   "source": [
    "import numpy as np\n",
    "import pandas as pd\n",
    "from sklearn.model_selection import train_test_split\n",
    "from sklearn.feature_extraction.text import CountVectorizer\n",
    "from sklearn.feature_extraction.text import TfidfTransformer\n",
    "from sklearn.naive_bayes import MultinomialNB\n",
    "from sklearn.pipeline import Pipeline\n",
    "from sklearn import metrics"
   ]
  },
  {
   "cell_type": "code",
   "execution_count": 2,
   "metadata": {},
   "outputs": [
    {
     "data": {
      "text/html": [
       "<div>\n",
       "<style scoped>\n",
       "    .dataframe tbody tr th:only-of-type {\n",
       "        vertical-align: middle;\n",
       "    }\n",
       "\n",
       "    .dataframe tbody tr th {\n",
       "        vertical-align: top;\n",
       "    }\n",
       "\n",
       "    .dataframe thead th {\n",
       "        text-align: right;\n",
       "    }\n",
       "</style>\n",
       "<table border=\"1\" class=\"dataframe\">\n",
       "  <thead>\n",
       "    <tr style=\"text-align: right;\">\n",
       "      <th></th>\n",
       "      <th>Unnamed: 0</th>\n",
       "      <th>Description.of.incident</th>\n",
       "      <th>Information.Source</th>\n",
       "    </tr>\n",
       "  </thead>\n",
       "  <tbody>\n",
       "    <tr>\n",
       "      <th>0</th>\n",
       "      <td>1</td>\n",
       "      <td>The company's website was breached sometime ar...</td>\n",
       "      <td>California Attorney General</td>\n",
       "    </tr>\n",
       "    <tr>\n",
       "      <th>1</th>\n",
       "      <td>2</td>\n",
       "      <td>The December 29, 2011 theft of a laptop from a...</td>\n",
       "      <td>California Attorney General</td>\n",
       "    </tr>\n",
       "    <tr>\n",
       "      <th>2</th>\n",
       "      <td>3</td>\n",
       "      <td>BDO was contracted by Rubio's to perform finan...</td>\n",
       "      <td>California Attorney General</td>\n",
       "    </tr>\n",
       "    <tr>\n",
       "      <th>3</th>\n",
       "      <td>4</td>\n",
       "      <td>On February 10, 2012, DHI Mortgage became awar...</td>\n",
       "      <td>California Attorney General</td>\n",
       "    </tr>\n",
       "    <tr>\n",
       "      <th>4</th>\n",
       "      <td>5</td>\n",
       "      <td>An office burglary on New Year's Eve 2011 resu...</td>\n",
       "      <td>California Attorney General</td>\n",
       "    </tr>\n",
       "  </tbody>\n",
       "</table>\n",
       "</div>"
      ],
      "text/plain": [
       "   Unnamed: 0                            Description.of.incident  \\\n",
       "0           1  The company's website was breached sometime ar...   \n",
       "1           2  The December 29, 2011 theft of a laptop from a...   \n",
       "2           3  BDO was contracted by Rubio's to perform finan...   \n",
       "3           4  On February 10, 2012, DHI Mortgage became awar...   \n",
       "4           5  An office burglary on New Year's Eve 2011 resu...   \n",
       "\n",
       "            Information.Source  \n",
       "0  California Attorney General  \n",
       "1  California Attorney General  \n",
       "2  California Attorney General  \n",
       "3  California Attorney General  \n",
       "4  California Attorney General  "
      ]
     },
     "execution_count": 2,
     "metadata": {},
     "output_type": "execute_result"
    }
   ],
   "source": [
    "df = pd.read_csv('C:/Users/Aditi/Desktop/crypto/InfoSrc.csv')\n",
    "df.head()"
   ]
  },
  {
   "cell_type": "code",
   "execution_count": 3,
   "metadata": {},
   "outputs": [
    {
     "data": {
      "text/plain": [
       "US Department of Health and Human Services    2474\n",
       "Dataloss DB                                   1757\n",
       "Media                                         1063\n",
       "Databreaches.net                               851\n",
       "California Attorney General                    726\n",
       "PHIPrivacy.net                                 552\n",
       "Indiana Attorney General                       499\n",
       "Maryland Attorney General                      311\n",
       "Government Agency                              251\n",
       "HHS via PHIPrivacy.net                         216\n",
       "Security Breach Letter                         153\n",
       "Vermont Attorney General                        41\n",
       "Krebs On Security                               41\n",
       "NAID                                            14\n",
       "Health IT Security                               5\n",
       "HHS via Databreaches.net                         5\n",
       "New Hampshire Attorney General                   2\n",
       "Massachusetts Attorney General                   1\n",
       "Name: Information.Source, dtype: int64"
      ]
     },
     "execution_count": 3,
     "metadata": {},
     "output_type": "execute_result"
    }
   ],
   "source": [
    "df['Information.Source'].value_counts()"
   ]
  },
  {
   "cell_type": "code",
   "execution_count": 4,
   "metadata": {},
   "outputs": [],
   "source": [
    "# Drop rows which contain any null value (or NaN)\n",
    "df = df.dropna()"
   ]
  },
  {
   "cell_type": "code",
   "execution_count": 5,
   "metadata": {},
   "outputs": [],
   "source": [
    "df[\"label\"] = df['Information.Source'].map({'US Department of Health and Human Services':0,\n",
    "'New Hampshire Attorney General' : 1,\n",
    "'Media': 2,\n",
    "'NAID' : 3,\n",
    "'Dataloss DB': 4,\n",
    "'Databreaches.net':5,\n",
    "'Vermont Attorney General': 6,\n",
    "'Krebs On Security' : 7,\n",
    "'PHIPrivacy.net' :8,\n",
    "'Security Breach Letter' : 9, \n",
    "'Indiana Attorney General' : 10,\n",
    "'California Attorney General' : 11,\n",
    "'Health IT Security' :12,\n",
    "'HHS via Databreaches.net' : 13,\n",
    "'Massachusetts Attorney General' : 14,\n",
    "'HHS via PHIPrivacy.net' : 15,\n",
    "'Government Agency':16,\n",
    "'Maryland Attorney General': 17  })"
   ]
  },
  {
   "cell_type": "code",
   "execution_count": 6,
   "metadata": {},
   "outputs": [
    {
     "data": {
      "text/html": [
       "<div>\n",
       "<style scoped>\n",
       "    .dataframe tbody tr th:only-of-type {\n",
       "        vertical-align: middle;\n",
       "    }\n",
       "\n",
       "    .dataframe tbody tr th {\n",
       "        vertical-align: top;\n",
       "    }\n",
       "\n",
       "    .dataframe thead th {\n",
       "        text-align: right;\n",
       "    }\n",
       "</style>\n",
       "<table border=\"1\" class=\"dataframe\">\n",
       "  <thead>\n",
       "    <tr style=\"text-align: right;\">\n",
       "      <th></th>\n",
       "      <th>Unnamed: 0</th>\n",
       "      <th>Description.of.incident</th>\n",
       "      <th>Information.Source</th>\n",
       "      <th>label</th>\n",
       "    </tr>\n",
       "  </thead>\n",
       "  <tbody>\n",
       "    <tr>\n",
       "      <th>0</th>\n",
       "      <td>1</td>\n",
       "      <td>The company's website was breached sometime ar...</td>\n",
       "      <td>California Attorney General</td>\n",
       "      <td>11</td>\n",
       "    </tr>\n",
       "    <tr>\n",
       "      <th>1</th>\n",
       "      <td>2</td>\n",
       "      <td>The December 29, 2011 theft of a laptop from a...</td>\n",
       "      <td>California Attorney General</td>\n",
       "      <td>11</td>\n",
       "    </tr>\n",
       "    <tr>\n",
       "      <th>2</th>\n",
       "      <td>3</td>\n",
       "      <td>BDO was contracted by Rubio's to perform finan...</td>\n",
       "      <td>California Attorney General</td>\n",
       "      <td>11</td>\n",
       "    </tr>\n",
       "    <tr>\n",
       "      <th>3</th>\n",
       "      <td>4</td>\n",
       "      <td>On February 10, 2012, DHI Mortgage became awar...</td>\n",
       "      <td>California Attorney General</td>\n",
       "      <td>11</td>\n",
       "    </tr>\n",
       "    <tr>\n",
       "      <th>4</th>\n",
       "      <td>5</td>\n",
       "      <td>An office burglary on New Year's Eve 2011 resu...</td>\n",
       "      <td>California Attorney General</td>\n",
       "      <td>11</td>\n",
       "    </tr>\n",
       "  </tbody>\n",
       "</table>\n",
       "</div>"
      ],
      "text/plain": [
       "   Unnamed: 0                            Description.of.incident  \\\n",
       "0           1  The company's website was breached sometime ar...   \n",
       "1           2  The December 29, 2011 theft of a laptop from a...   \n",
       "2           3  BDO was contracted by Rubio's to perform finan...   \n",
       "3           4  On February 10, 2012, DHI Mortgage became awar...   \n",
       "4           5  An office burglary on New Year's Eve 2011 resu...   \n",
       "\n",
       "            Information.Source  label  \n",
       "0  California Attorney General     11  \n",
       "1  California Attorney General     11  \n",
       "2  California Attorney General     11  \n",
       "3  California Attorney General     11  \n",
       "4  California Attorney General     11  "
      ]
     },
     "execution_count": 6,
     "metadata": {},
     "output_type": "execute_result"
    }
   ],
   "source": [
    "# Labeled Dataset\n",
    "df.head()"
   ]
  },
  {
   "cell_type": "code",
   "execution_count": 7,
   "metadata": {},
   "outputs": [
    {
     "name": "stdout",
     "output_type": "stream",
     "text": [
      "(8961,)\n",
      "(8961,)\n"
     ]
    }
   ],
   "source": [
    "x = df['Description.of.incident']\n",
    "y = df['label']\n",
    "print(x.shape)\n",
    "print(y.shape)"
   ]
  },
  {
   "cell_type": "code",
   "execution_count": 8,
   "metadata": {},
   "outputs": [
    {
     "name": "stdout",
     "output_type": "stream",
     "text": [
      "(6720,)\n",
      "(2241,)\n",
      "(6720,)\n",
      "(2241,)\n"
     ]
    }
   ],
   "source": [
    "# Dividing whole dataset into training(75%) and testing(25%) datasets\n",
    "X_train, X_test, y_train, y_test = train_test_split(x,y,test_size=0.25, random_state = 1)\n",
    "print(X_train.shape)\n",
    "print(X_test.shape)\n",
    "print(y_train.shape)\n",
    "print(y_test.shape)"
   ]
  },
  {
   "cell_type": "code",
   "execution_count": 9,
   "metadata": {},
   "outputs": [],
   "source": [
    "# Vectorization using CountVectorizer\n",
    "Vec = CountVectorizer()\n",
    "X_train_counts = Vec.fit_transform(X_train)"
   ]
  },
  {
   "cell_type": "code",
   "execution_count": 10,
   "metadata": {},
   "outputs": [
    {
     "data": {
      "text/plain": [
       "<6720x12947 sparse matrix of type '<class 'numpy.int64'>'\n",
       "\twith 252307 stored elements in Compressed Sparse Row format>"
      ]
     },
     "execution_count": 10,
     "metadata": {},
     "output_type": "execute_result"
    }
   ],
   "source": [
    "X_train_counts"
   ]
  },
  {
   "cell_type": "code",
   "execution_count": 11,
   "metadata": {},
   "outputs": [
    {
     "data": {
      "text/plain": [
       "(6720, 12947)"
      ]
     },
     "execution_count": 11,
     "metadata": {},
     "output_type": "execute_result"
    }
   ],
   "source": [
    "X_train_counts.shape"
   ]
  },
  {
   "cell_type": "code",
   "execution_count": 12,
   "metadata": {},
   "outputs": [
    {
     "data": {
      "text/plain": [
       "(6720, 12947)"
      ]
     },
     "execution_count": 12,
     "metadata": {},
     "output_type": "execute_result"
    }
   ],
   "source": [
    "# Vectorization using Tfidf\n",
    "tfidf_transformer = TfidfTransformer()\n",
    "X_train_tfidf = tfidf_transformer.fit_transform(X_train_counts)\n",
    "X_train_tfidf.shape"
   ]
  },
  {
   "cell_type": "code",
   "execution_count": 13,
   "metadata": {},
   "outputs": [],
   "source": [
    "# Model1\n",
    "mod1 = MultinomialNB().fit(X_train_tfidf,y_train)\n",
    "from sklearn.pipeline import Pipeline\n",
    "text_mod1 = Pipeline([('vect', CountVectorizer()),('tfidf', TfidfTransformer()), ('mod1', MultinomialNB()),])"
   ]
  },
  {
   "cell_type": "code",
   "execution_count": 16,
   "metadata": {},
   "outputs": [
    {
     "name": "stdout",
     "output_type": "stream",
     "text": [
      "Wall time: 1.19 s\n"
     ]
    }
   ],
   "source": [
    "%time text_mod1 = text_mod1.fit(X_train, y_train)"
   ]
  },
  {
   "cell_type": "code",
   "execution_count": 28,
   "metadata": {},
   "outputs": [
    {
     "name": "stdout",
     "output_type": "stream",
     "text": [
      "Accuracy of MultinomialNB Model 2 is :  66.62204373047746\n"
     ]
    }
   ],
   "source": [
    "y_pred1 = text_mod1.predict(X_test)\n",
    "print(\"Accuracy of MultinomialNB Model 2 is : \",(text_mod1.score(X_test,y_test))*100)"
   ]
  },
  {
   "cell_type": "code",
   "execution_count": 29,
   "metadata": {},
   "outputs": [
    {
     "data": {
      "text/plain": [
       "array([10,  0,  0, ..., 17,  4,  0], dtype=int64)"
      ]
     },
     "execution_count": 29,
     "metadata": {},
     "output_type": "execute_result"
    }
   ],
   "source": [
    "y_pred1"
   ]
  },
  {
   "cell_type": "code",
   "execution_count": 19,
   "metadata": {},
   "outputs": [
    {
     "name": "stdout",
     "output_type": "stream",
     "text": [
      "Wall time: 35 ms\n"
     ]
    },
    {
     "data": {
      "text/plain": [
       "MultinomialNB(alpha=1.0, class_prior=None, fit_prior=True)"
      ]
     },
     "execution_count": 19,
     "metadata": {},
     "output_type": "execute_result"
    }
   ],
   "source": [
    "# Model2\n",
    "mod2 = MultinomialNB()\n",
    "%time mod2.fit( X_train_counts, y_train)"
   ]
  },
  {
   "cell_type": "code",
   "execution_count": 20,
   "metadata": {},
   "outputs": [
    {
     "data": {
      "text/plain": [
       "<2241x12947 sparse matrix of type '<class 'numpy.int64'>'\n",
       "\twith 82179 stored elements in Compressed Sparse Row format>"
      ]
     },
     "execution_count": 20,
     "metadata": {},
     "output_type": "execute_result"
    }
   ],
   "source": [
    "X_test_counts = Vec.transform(X_test)\n",
    "X_test_counts"
   ]
  },
  {
   "cell_type": "code",
   "execution_count": 30,
   "metadata": {},
   "outputs": [],
   "source": [
    "y_pred2 = mod2.predict(X_test_counts)"
   ]
  },
  {
   "cell_type": "code",
   "execution_count": 31,
   "metadata": {},
   "outputs": [
    {
     "name": "stdout",
     "output_type": "stream",
     "text": [
      "Accuracy of MultinomialNB Model 2 is :  74.8326639892905\n"
     ]
    }
   ],
   "source": [
    "print(\"Accuracy of MultinomialNB Model 2 is : \",(metrics.accuracy_score(y_test,y_pred2))*100)"
   ]
  },
  {
   "cell_type": "code",
   "execution_count": null,
   "metadata": {},
   "outputs": [],
   "source": [
    "# Conclusion : Model 2 is much faster and has better accuracy than Model 1\n",
    "# Note : Accuracy is quite low because of imbalanced nature of dataset. I tried to make it balanced but for that it is \n",
    "# it is showing memory usage issue."
   ]
  }
 ],
 "metadata": {
  "kernelspec": {
   "display_name": "Python 3",
   "language": "python",
   "name": "python3"
  },
  "language_info": {
   "codemirror_mode": {
    "name": "ipython",
    "version": 3
   },
   "file_extension": ".py",
   "mimetype": "text/x-python",
   "name": "python",
   "nbconvert_exporter": "python",
   "pygments_lexer": "ipython3",
   "version": "3.6.8"
  }
 },
 "nbformat": 4,
 "nbformat_minor": 2
}
