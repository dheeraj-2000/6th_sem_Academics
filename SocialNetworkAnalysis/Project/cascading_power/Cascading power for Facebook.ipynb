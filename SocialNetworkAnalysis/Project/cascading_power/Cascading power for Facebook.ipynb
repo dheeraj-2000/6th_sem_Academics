{
 "cells": [
  {
   "cell_type": "code",
   "execution_count": 2,
   "metadata": {},
   "outputs": [],
   "source": [
    "import numpy as np\n",
    "import pandas as pd\n",
    "import matplotlib.pyplot as plt"
   ]
  },
  {
   "cell_type": "code",
   "execution_count": 3,
   "metadata": {},
   "outputs": [
    {
     "data": {
      "text/html": [
       "<div>\n",
       "<style scoped>\n",
       "    .dataframe tbody tr th:only-of-type {\n",
       "        vertical-align: middle;\n",
       "    }\n",
       "\n",
       "    .dataframe tbody tr th {\n",
       "        vertical-align: top;\n",
       "    }\n",
       "\n",
       "    .dataframe thead th {\n",
       "        text-align: right;\n",
       "    }\n",
       "</style>\n",
       "<table border=\"1\" class=\"dataframe\">\n",
       "  <thead>\n",
       "    <tr style=\"text-align: right;\">\n",
       "      <th></th>\n",
       "      <th>Unnamed: 0</th>\n",
       "      <th>sm</th>\n",
       "      <th>mean</th>\n",
       "      <th>sd</th>\n",
       "      <th>meanplussd</th>\n",
       "      <th>meanminussd</th>\n",
       "    </tr>\n",
       "  </thead>\n",
       "  <tbody>\n",
       "    <tr>\n",
       "      <th>0</th>\n",
       "      <td>1</td>\n",
       "      <td>1</td>\n",
       "      <td>2310.773333</td>\n",
       "      <td>1977.576592</td>\n",
       "      <td>4288.349925</td>\n",
       "      <td>333.196741</td>\n",
       "    </tr>\n",
       "    <tr>\n",
       "      <th>1</th>\n",
       "      <td>2</td>\n",
       "      <td>2</td>\n",
       "      <td>2918.675926</td>\n",
       "      <td>1592.821467</td>\n",
       "      <td>4511.497393</td>\n",
       "      <td>1325.854459</td>\n",
       "    </tr>\n",
       "    <tr>\n",
       "      <th>2</th>\n",
       "      <td>3</td>\n",
       "      <td>3</td>\n",
       "      <td>3243.274510</td>\n",
       "      <td>1401.732050</td>\n",
       "      <td>4645.006560</td>\n",
       "      <td>1841.542459</td>\n",
       "    </tr>\n",
       "    <tr>\n",
       "      <th>3</th>\n",
       "      <td>4</td>\n",
       "      <td>4</td>\n",
       "      <td>3573.158333</td>\n",
       "      <td>924.660367</td>\n",
       "      <td>4497.818701</td>\n",
       "      <td>2648.497966</td>\n",
       "    </tr>\n",
       "    <tr>\n",
       "      <th>4</th>\n",
       "      <td>5</td>\n",
       "      <td>5</td>\n",
       "      <td>3736.194030</td>\n",
       "      <td>815.900891</td>\n",
       "      <td>4552.094920</td>\n",
       "      <td>2920.293139</td>\n",
       "    </tr>\n",
       "    <tr>\n",
       "      <th>...</th>\n",
       "      <td>...</td>\n",
       "      <td>...</td>\n",
       "      <td>...</td>\n",
       "      <td>...</td>\n",
       "      <td>...</td>\n",
       "      <td>...</td>\n",
       "    </tr>\n",
       "    <tr>\n",
       "      <th>91</th>\n",
       "      <td>92</td>\n",
       "      <td>92</td>\n",
       "      <td>3919.750000</td>\n",
       "      <td>30.772011</td>\n",
       "      <td>3950.522011</td>\n",
       "      <td>3888.977989</td>\n",
       "    </tr>\n",
       "    <tr>\n",
       "      <th>92</th>\n",
       "      <td>93</td>\n",
       "      <td>93</td>\n",
       "      <td>3926.333333</td>\n",
       "      <td>12.503333</td>\n",
       "      <td>3938.836666</td>\n",
       "      <td>3913.830000</td>\n",
       "    </tr>\n",
       "    <tr>\n",
       "      <th>93</th>\n",
       "      <td>94</td>\n",
       "      <td>94</td>\n",
       "      <td>3924.500000</td>\n",
       "      <td>3.535534</td>\n",
       "      <td>3928.035534</td>\n",
       "      <td>3920.964466</td>\n",
       "    </tr>\n",
       "    <tr>\n",
       "      <th>94</th>\n",
       "      <td>95</td>\n",
       "      <td>95</td>\n",
       "      <td>3942.142857</td>\n",
       "      <td>93.715375</td>\n",
       "      <td>4035.858232</td>\n",
       "      <td>3848.427483</td>\n",
       "    </tr>\n",
       "    <tr>\n",
       "      <th>95</th>\n",
       "      <td>96</td>\n",
       "      <td>96</td>\n",
       "      <td>3930.379747</td>\n",
       "      <td>24.743249</td>\n",
       "      <td>3955.122996</td>\n",
       "      <td>3905.636498</td>\n",
       "    </tr>\n",
       "  </tbody>\n",
       "</table>\n",
       "<p>96 rows × 6 columns</p>\n",
       "</div>"
      ],
      "text/plain": [
       "    Unnamed: 0  sm         mean           sd   meanplussd  meanminussd\n",
       "0            1   1  2310.773333  1977.576592  4288.349925   333.196741\n",
       "1            2   2  2918.675926  1592.821467  4511.497393  1325.854459\n",
       "2            3   3  3243.274510  1401.732050  4645.006560  1841.542459\n",
       "3            4   4  3573.158333   924.660367  4497.818701  2648.497966\n",
       "4            5   5  3736.194030   815.900891  4552.094920  2920.293139\n",
       "..         ...  ..          ...          ...          ...          ...\n",
       "91          92  92  3919.750000    30.772011  3950.522011  3888.977989\n",
       "92          93  93  3926.333333    12.503333  3938.836666  3913.830000\n",
       "93          94  94  3924.500000     3.535534  3928.035534  3920.964466\n",
       "94          95  95  3942.142857    93.715375  4035.858232  3848.427483\n",
       "95          96  96  3930.379747    24.743249  3955.122996  3905.636498\n",
       "\n",
       "[96 rows x 6 columns]"
      ]
     },
     "execution_count": 3,
     "metadata": {},
     "output_type": "execute_result"
    }
   ],
   "source": [
    "\n",
    "df=pd.read_csv(\"/home/dheeraj/my_projects/my_project_env/practice/cas/new_updated.csv\",encoding = \"ISO-8859-1\")\n",
    "df"
   ]
  },
  {
   "cell_type": "code",
   "execution_count": 10,
   "metadata": {},
   "outputs": [],
   "source": [
    "x = df['sm']\n",
    "y1 = df['meanplussd']\n",
    "y2 = df['meanminussd']\n",
    "z = df['mean']"
   ]
  },
  {
   "cell_type": "code",
   "execution_count": 13,
   "metadata": {},
   "outputs": [
    {
     "data": {
      "image/png": "[encoded data removed]",
      "text/plain": [
       "<Figure size 720x576 with 1 Axes>"
      ]
     },
     "metadata": {
      "needs_background": "light"
     },
     "output_type": "display_data"
    },
    {
     "data": {
      "text/plain": [
       "<Figure size 432x288 with 0 Axes>"
      ]
     },
     "metadata": {},
     "output_type": "display_data"
    }
   ],
   "source": [
    "fig = plt.figure(figsize=(10, 8))\n",
    "\n",
    "plt.plot(x,z, color = \"black\", label = \"mean line\")\n",
    "plt.plot(x,y1, color = \"red\", label = \"for standard deviation\")\n",
    "plt.plot(x,y2, color = \"red\")\n",
    "plt.fill_between(x, y1, y2, where=None,color = \"yellow\", interpolate=False, step=None, data=None, alpha='0.3')\n",
    "plt.xlabel('Shell Number')\n",
    "plt.ylabel('cascading power')\n",
    "plt.title('Cascading power in Facebook')\n",
    "plt.legend()\n",
    "plt.show()\n",
    "plt.savefig('cascading_weblog.png', dpi=800)\n"
   ]
  },
  {
   "cell_type": "code",
   "execution_count": null,
   "metadata": {},
   "outputs": [],
   "source": []
  }
 ],
 "metadata": {
  "kernelspec": {
   "display_name": "Python 3",
   "language": "python",
   "name": "python3"
  },
  "language_info": {
   "codemirror_mode": {
    "name": "ipython",
    "version": 3
   },
   "file_extension": ".py",
   "mimetype": "text/x-python",
   "name": "python",
   "nbconvert_exporter": "python",
   "pygments_lexer": "ipython3",
   "version": "3.6.8"
  }
 },
 "nbformat": 4,
 "nbformat_minor": 2
}
