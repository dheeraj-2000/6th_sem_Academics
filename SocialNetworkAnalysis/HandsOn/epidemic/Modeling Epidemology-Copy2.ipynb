{
 "cells": [
  {
   "cell_type": "code",
   "execution_count": 88,
   "metadata": {},
   "outputs": [],
   "source": [
    "import matplotlib.pyplot as plt\n",
    "import networkx as nx\n",
    "from igraph import *\n",
    "import random"
   ]
  },
  {
   "cell_type": "code",
   "execution_count": null,
   "metadata": {},
   "outputs": [],
   "source": []
  },
  {
   "cell_type": "code",
   "execution_count": 89,
   "metadata": {
    "scrolled": true
   },
   "outputs": [],
   "source": [
    "G1 = Graph.Read('/home/dheeraj/my_projects/my_project_env/practice/6th_sem_Academics/SocialNetworkAnalysis/HandsOn/epidemic/karate.gml')"
   ]
  },
  {
   "cell_type": "code",
   "execution_count": 90,
   "metadata": {},
   "outputs": [],
   "source": [
    "# plot(G1)"
   ]
  },
  {
   "cell_type": "code",
   "execution_count": 91,
   "metadata": {},
   "outputs": [
    {
     "data": {
      "text/plain": [
       "34"
      ]
     },
     "execution_count": 91,
     "metadata": {},
     "output_type": "execute_result"
    }
   ],
   "source": [
    "G1.vcount()"
   ]
  },
  {
   "cell_type": "code",
   "execution_count": null,
   "metadata": {},
   "outputs": [],
   "source": []
  },
  {
   "cell_type": "code",
   "execution_count": 85,
   "metadata": {},
   "outputs": [],
   "source": [
    "# for i in range(0, G1.vcount()):\n",
    "#     susceptiple_nodes=susceptiple_nodes.update{i:{\"status\": \"susceptible\",\"color\": \"yellow\", \"timestamp\": 0 } }"
   ]
  },
  {
   "cell_type": "code",
   "execution_count": 95,
   "metadata": {},
   "outputs": [],
   "source": [
    "for i in range(0, G1.vcount()):\n",
    "    susceptiple_nodes[i] = {\"status\": \"susceptible\",\"color\": \"green\", \"timestamp\": 0 } \n",
    "    susceptiple_nodes.update(susceptiple_nodes)"
   ]
  },
  {
   "cell_type": "code",
   "execution_count": 97,
   "metadata": {},
   "outputs": [
    {
     "name": "stdout",
     "output_type": "stream",
     "text": [
      "{33: {'status': 'susceptible', 'color': 'green', 'timestamp': 0}, 0: {'status': 'susceptible', 'color': 'green', 'timestamp': 0}, 1: {'status': 'susceptible', 'color': 'green', 'timestamp': 0}, 2: {'status': 'susceptible', 'color': 'green', 'timestamp': 0}, 3: {'status': 'susceptible', 'color': 'green', 'timestamp': 0}, 4: {'status': 'susceptible', 'color': 'green', 'timestamp': 0}, 5: {'status': 'susceptible', 'color': 'green', 'timestamp': 0}, 6: {'status': 'susceptible', 'color': 'green', 'timestamp': 0}, 7: {'status': 'susceptible', 'color': 'green', 'timestamp': 0}, 8: {'status': 'susceptible', 'color': 'green', 'timestamp': 0}, 9: {'status': 'susceptible', 'color': 'green', 'timestamp': 0}, 10: {'status': 'susceptible', 'color': 'green', 'timestamp': 0}, 11: {'status': 'susceptible', 'color': 'green', 'timestamp': 0}, 12: {'status': 'susceptible', 'color': 'green', 'timestamp': 0}, 13: {'status': 'susceptible', 'color': 'green', 'timestamp': 0}, 14: {'status': 'susceptible', 'color': 'green', 'timestamp': 0}, 15: {'status': 'susceptible', 'color': 'green', 'timestamp': 0}, 16: {'status': 'susceptible', 'color': 'green', 'timestamp': 0}, 17: {'status': 'susceptible', 'color': 'green', 'timestamp': 0}, 18: {'status': 'susceptible', 'color': 'green', 'timestamp': 0}, 19: {'status': 'susceptible', 'color': 'green', 'timestamp': 0}, 20: {'status': 'susceptible', 'color': 'green', 'timestamp': 0}, 21: {'status': 'susceptible', 'color': 'green', 'timestamp': 0}, 22: {'status': 'susceptible', 'color': 'green', 'timestamp': 0}, 23: {'status': 'susceptible', 'color': 'green', 'timestamp': 0}, 24: {'status': 'susceptible', 'color': 'green', 'timestamp': 0}, 25: {'status': 'susceptible', 'color': 'green', 'timestamp': 0}, 26: {'status': 'susceptible', 'color': 'green', 'timestamp': 0}, 27: {'status': 'susceptible', 'color': 'green', 'timestamp': 0}, 28: {'status': 'susceptible', 'color': 'green', 'timestamp': 0}, 29: {'status': 'susceptible', 'color': 'green', 'timestamp': 0}, 30: {'status': 'susceptible', 'color': 'green', 'timestamp': 0}, 31: {'status': 'susceptible', 'color': 'green', 'timestamp': 0}, 32: {'status': 'susceptible', 'color': 'green', 'timestamp': 0}}\n"
     ]
    }
   ],
   "source": [
    "print(susceptiple_nodes)"
   ]
  },
  {
   "cell_type": "code",
   "execution_count": 58,
   "metadata": {},
   "outputs": [],
   "source": [
    "# people = {1: {'name': 'John', 'age': '27', 'sex': 'Male'},\n",
    "#           2: {'name': 'Marie', 'age': '22', 'sex': 'Female'}}\n",
    "\n",
    "# print(people[1]['name'])"
   ]
  },
  {
   "cell_type": "code",
   "execution_count": 17,
   "metadata": {},
   "outputs": [],
   "source": [
    "# susceptible = \"susceptible\"\n",
    "# for item in node_:\n",
    "#     G1.vs[item]['state'] = infectious             ## Giving the initial behaviour to each node of the network       "
   ]
  },
  {
   "cell_type": "code",
   "execution_count": 94,
   "metadata": {},
   "outputs": [
    {
     "name": "stdout",
     "output_type": "stream",
     "text": [
      "[2, 3]\n",
      "\n",
      " {33: {'status': 'susceptible', 'color': 'green', 'timestamp': 0}, 0: {'status': 'susceptible', 'color': 'green', 'timestamp': 0}, 1: {'status': 'susceptible', 'color': 'green', 'timestamp': 0}, 2: {'status': 'infectious', 'color': 'red', 'timestamp': 1}, 3: {'status': 'infectious', 'color': 'red', 'timestamp': 1}, 4: {'status': 'susceptible', 'color': 'green', 'timestamp': 0}, 5: {'status': 'susceptible', 'color': 'green', 'timestamp': 0}, 6: {'status': 'susceptible', 'color': 'green', 'timestamp': 0}, 7: {'status': 'susceptible', 'color': 'green', 'timestamp': 0}, 8: {'status': 'susceptible', 'color': 'green', 'timestamp': 0}, 9: {'status': 'susceptible', 'color': 'green', 'timestamp': 0}, 10: {'status': 'susceptible', 'color': 'green', 'timestamp': 0}, 11: {'status': 'susceptible', 'color': 'green', 'timestamp': 0}, 12: {'status': 'susceptible', 'color': 'green', 'timestamp': 0}, 13: {'status': 'susceptible', 'color': 'green', 'timestamp': 0}, 14: {'status': 'susceptible', 'color': 'green', 'timestamp': 0}, 15: {'status': 'susceptible', 'color': 'green', 'timestamp': 0}, 16: {'status': 'susceptible', 'color': 'green', 'timestamp': 0}, 17: {'status': 'susceptible', 'color': 'green', 'timestamp': 0}, 18: {'status': 'susceptible', 'color': 'green', 'timestamp': 0}, 19: {'status': 'susceptible', 'color': 'green', 'timestamp': 0}, 20: {'status': 'susceptible', 'color': 'green', 'timestamp': 0}, 21: {'status': 'susceptible', 'color': 'green', 'timestamp': 0}, 22: {'status': 'susceptible', 'color': 'green', 'timestamp': 0}, 23: {'status': 'susceptible', 'color': 'green', 'timestamp': 0}, 24: {'status': 'susceptible', 'color': 'green', 'timestamp': 0}, 25: {'status': 'susceptible', 'color': 'green', 'timestamp': 0}, 26: {'status': 'susceptible', 'color': 'green', 'timestamp': 0}, 27: {'status': 'susceptible', 'color': 'green', 'timestamp': 0}, 28: {'status': 'susceptible', 'color': 'green', 'timestamp': 0}, 29: {'status': 'susceptible', 'color': 'green', 'timestamp': 0}, 30: {'status': 'susceptible', 'color': 'green', 'timestamp': 0}, 31: {'status': 'susceptible', 'color': 'green', 'timestamp': 0}, 32: {'status': 'susceptible', 'color': 'green', 'timestamp': 0}}\n"
     ]
    }
   ],
   "source": [
    "# infected_seed = []                                    ## Create an empty list for infected seed list\n",
    "# n= int(input(\"Enter number of inital seeds that you want to give: \"))      ## ENter the number of initial seeds that you're infecting\n",
    "\n",
    "# for i in range(0,n):\n",
    "#     seed_val = int(input('Enter seed value: '))\n",
    "#     infected_seed.append(seed_val)                  ## Appending the seeds with new behaviour in an list\n",
    "    \n",
    "# print('Initial seed input given by the user is: ', infected_seed) \n",
    "t_i = 1\n",
    "# def seed_nodes():\n",
    "seed_node = [2,3]\n",
    "#     for node in seed_node:\n",
    "#         susceptible_list.append(node)\n",
    "#     return seed_node\n",
    "# seednodes = seed_nodes()\n",
    "print(seed_node)\n",
    "\n",
    "for key in seed_node:\n",
    "    susceptiple_nodes[key][\"status\"] = \"infectious\"\n",
    "    susceptiple_nodes[key][\"color\"] = \"red\"\n",
    "    susceptiple_nodes[key][\"timestamp\"] = t_i\n",
    "print(\"\\n\",susceptiple_nodes)\n",
    "\n",
    "# infected_nodes = list()\n",
    "# def infectious_nodes(G1,seed_node):\n",
    "# for seed_node in susceptible_list:\n",
    "#     G1.vs[node][\"status\"] = \"infectious\"\n",
    "#     return infectio\n",
    "# print(seed_node[\"infectious\"])"
   ]
  },
  {
   "cell_type": "code",
   "execution_count": null,
   "metadata": {},
   "outputs": [],
   "source": []
  },
  {
   "cell_type": "code",
   "execution_count": 2,
   "metadata": {},
   "outputs": [
    {
     "ename": "NameError",
     "evalue": "name 'infectious_nodes' is not defined",
     "output_type": "error",
     "traceback": [
      "\u001b[0;31m---------------------------------------------------------------------------\u001b[0m",
      "\u001b[0;31mNameError\u001b[0m                                 Traceback (most recent call last)",
      "\u001b[0;32m<ipython-input-2-159c2d6ed223>\u001b[0m in \u001b[0;36m<module>\u001b[0;34m\u001b[0m\n\u001b[1;32m     13\u001b[0m \u001b[0;32mwhile\u001b[0m\u001b[0;34m(\u001b[0m\u001b[0mt\u001b[0m\u001b[0;34m)\u001b[0m\u001b[0;34m:\u001b[0m\u001b[0;34m\u001b[0m\u001b[0;34m\u001b[0m\u001b[0m\n\u001b[1;32m     14\u001b[0m \u001b[0;34m\u001b[0m\u001b[0m\n\u001b[0;32m---> 15\u001b[0;31m     \u001b[0;32mif\u001b[0m \u001b[0mlen\u001b[0m\u001b[0;34m(\u001b[0m\u001b[0minfectious_nodes\u001b[0m\u001b[0;34m)\u001b[0m \u001b[0;34m==\u001b[0m \u001b[0;36m0\u001b[0m\u001b[0;34m:\u001b[0m\u001b[0;34m\u001b[0m\u001b[0;34m\u001b[0m\u001b[0m\n\u001b[0m\u001b[1;32m     16\u001b[0m         \u001b[0;32mbreak\u001b[0m\u001b[0;34m\u001b[0m\u001b[0;34m\u001b[0m\u001b[0m\n\u001b[1;32m     17\u001b[0m     \u001b[0;32mfor\u001b[0m \u001b[0mitem\u001b[0m \u001b[0;32min\u001b[0m \u001b[0minfectious_nodes\u001b[0m\u001b[0;34m:\u001b[0m\u001b[0;34m\u001b[0m\u001b[0;34m\u001b[0m\u001b[0m\n",
      "\u001b[0;31mNameError\u001b[0m: name 'infectious_nodes' is not defined"
     ]
    }
   ],
   "source": [
    "time = 0\n",
    "# time_of_expose = 1\n",
    "# time_of_infectious =1\n",
    "# time_of_recovered = 1\n",
    "\n",
    "# # susceptible_nodes = list()\n",
    "exposed_nodes = list()\n",
    "recovered_nodes = list()\n",
    "\n",
    "def neighbors(G1,node):\n",
    "    neighbour_nodes = G1.neighbors(node)\n",
    "    return neighbour_nodes\n",
    "\n",
    "t=10\n",
    "while(t):   \n",
    "    \n",
    "#     if len(susceptible_nodes) == 0:\n",
    "#         break\n",
    "    time = time + 1\n",
    "    for node in seed_node:\n",
    "        prob = random.uniform(0,1)\n",
    "            #print(prob)\n",
    "        if prob >= 0.5:\n",
    "            n = neighbors(G1,node)\n",
    "            exposed_nodes.append(n)\n",
    "    \n",
    "    \n",
    "    for i in range(0, G1.vcount()):\n",
    "        if susceptiple_nodes[i][\"status\"] = \"infectious\"\n",
    "            if susceptiple_nodes[i][\"timestamp\"] > t_i:\n",
    "                susceptiple_nodes[i][\"status\"] = \"recovered\"\n",
    "                susceptiple_nodes[i][\"timestamp\"] = 0\n",
    "    \n",
    "            \n",
    "    \n",
    "    for i in range(0, G1.vcount()):\n",
    "        if susceptiple_nodes[i][\"status\"] = \"recovered\"\n",
    "            if susceptiple_nodes[i][\"timestamp\"] > t_r:\n",
    "                susceptiple_nodes[i][\"status\"] = \"susceptible\"\n",
    "                susceptiple_nodes[i][\"timestamp\"] = 0    \n",
    "    \n",
    "    \n",
    "    \n",
    "    for i in range(0, G1.vcount()):\n",
    "        if susceptiple_nodes[i][\"status\"] = \"exposed\"\n",
    "            if susceptiple_nodes[i][\"timestamp\"] > t_e:\n",
    "                susceptiple_nodes[i][\"status\"] = \"infectious\"\n",
    "                susceptiple_nodes[i][\"timestamp\"] = 0    \n",
    "    \n",
    "    \n",
    "    \n",
    "    \n",
    "    \n",
    "    \n",
    "    \n",
    "    \n",
    "    \n",
    "    \n",
    "    \n",
    "    \n",
    "    \n",
    "        #if timestamp == 20:\n",
    "            #break\n",
    "        #people prone to infection\n",
    "        neighbors_nodes = neighbors(G1,item)\n",
    "        for nodes in neighbors_nodes:\n",
    "            if nodes not in recovered_nodes:\n",
    "#                 set_susceptible(G1,nodes)\n",
    "                G1.vs[nodes][\"status\"] = \"susceptible\"\n",
    "                if nodes not in susceptible_nodes:\n",
    "                    susceptible_nodes.append(nodes)\n",
    "\n",
    "        # people who are infected\n",
    "        for nodes in susceptible_nodes:    \n",
    "            prob = random.uniform(0,1)\n",
    "            #print(prob)\n",
    "            if prob >= 0.5:\n",
    "#                 set_exposed(G1,nodes)\n",
    "                G1.vs[nodes][\"status\"] = \"exposed\"\n",
    "                if nodes not in exposed_nodes:\n",
    "                    exposed_nodes.append(nodes)\n",
    "                susceptible_nodes.remove(nodes)\n",
    "        #infectious nodes p = 0.5\n",
    "        for nodes in exposed_nodes:\n",
    "            prob = random.uniform(0,1)\n",
    "            if prob >= 0.5:\n",
    "#                 set_infectious(G1, nodes)\n",
    "                G1.vs[nodes][\"status\"] = \"infectious\"\n",
    "                if nodes not in infectious_nodes:\n",
    "                    infectious_nodes.append(nodes)\n",
    "        if time == time_of_expose:\n",
    "            for nodes in exposed_nodes:\n",
    "                prob = random.uniform(0,1)\n",
    "                if prob >= 0.5:\n",
    "                    exposed_nodes.remove(nodes)\n",
    "                    if nodes in infectious_nodes:\n",
    "                        infectious_nodes.remove(nodes)\n",
    "#                     set_recovered(G1,nodes)\n",
    "                    G1.vs[nodes][\"status\"] = \"recovered\"\n",
    "                    if nodes not in recovered_nodes:\n",
    "                        recovered_nodes.append(nodes)\n",
    "        if time == time_of_infectious:\n",
    "            for nodes in infectious_nodes:\n",
    "                prob = random.uniform(0,1)\n",
    "                if prob >= 0.5:\n",
    "                    infectious_nodes.remove(nodes)\n",
    "#                     set_recovered(G1,nodes)\n",
    "                    G1.vs[nodes][\"status\"] = \"recovered\"\n",
    "                    if nodes not in recovered_nodes:\n",
    "                        recovered_nodes.append(nodes)\n",
    "        if time ==time_of_recovered:\n",
    "            for nodes in recovered_nodes:\n",
    "                prob = random.uniform(0,1)\n",
    "                if prob >= 0.8:\n",
    "                    recovered_nodes.remove(nodes)\n",
    "                    #set_empty(G1,nodes)\n",
    "        #print(timestamp)\n",
    "\n",
    "#         def get_colors(G1):\n",
    "#             list1 = []\n",
    "#             for each in node_list:\n",
    "#                 if G1.vs[\"status\"][each] == \"exposed\":\n",
    "#                     list1.append(\"pink\")\n",
    "#                 elif G1.vs[\"status\"][each] == \"infectious\":\n",
    "#                     list1.append(\"red\")\n",
    "#                 elif G1.vs[\"status\"][each] == \"recovered\":\n",
    "#                     list1.append(\"yellow\")\n",
    "#                 elif G1.vs[\"status\"][each] == \"susceptible\":\n",
    "#                     list1.append(\"blue\")\n",
    "#                 elif G1.vs[\"status\"][each] == \"empty\":\n",
    "#                     list1.append(\"white\")\n",
    "#                 else:\n",
    "#                     list1.append(\"white\")\n",
    "            \n",
    "#             return list1\n",
    "#         colors = get_colors(G1)\n",
    "#         G1.vs[\"colors\"] = colors\n",
    "\n",
    "#         plot(G1, vertex_color = colors)\n",
    "        \n",
    "#         print(\"susceptible nodes: \", susceptible_nodes)\n",
    "#         print(\"exposed nodes: \",exposed_nodes)\n",
    "#         print(\"recovered nodes: \",recovered_nodes)\n",
    "#         print(\"infectcious nodes: \",infectious_nodes)\n",
    "        t=t-1\n",
    "    #if timestamp == 20:\n",
    "#         plot(G1)\n",
    "        #break"
   ]
  },
  {
   "cell_type": "code",
   "execution_count": null,
   "metadata": {},
   "outputs": [],
   "source": [
    "# colors = get_colors(G1)\n",
    "# G1.vs[\"colors\"] = colors\n",
    "# plot(G1, \"fig_{}.png\".format(timestamp),vertex_color = colors, label = True)"
   ]
  },
  {
   "cell_type": "code",
   "execution_count": null,
   "metadata": {},
   "outputs": [],
   "source": []
  },
  {
   "cell_type": "code",
   "execution_count": null,
   "metadata": {},
   "outputs": [],
   "source": []
  },
  {
   "cell_type": "code",
   "execution_count": null,
   "metadata": {},
   "outputs": [],
   "source": []
  }
 ],
 "metadata": {
  "kernelspec": {
   "display_name": "Python 3",
   "language": "python",
   "name": "python3"
  },
  "language_info": {
   "codemirror_mode": {
    "name": "ipython",
    "version": 3
   },
   "file_extension": ".py",
   "mimetype": "text/x-python",
   "name": "python",
   "nbconvert_exporter": "python",
   "pygments_lexer": "ipython3",
   "version": "3.6.8"
  }
 },
 "nbformat": 4,
 "nbformat_minor": 2
}
