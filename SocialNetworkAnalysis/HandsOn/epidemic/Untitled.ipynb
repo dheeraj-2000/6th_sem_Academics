{
 "cells": [
  {
   "cell_type": "code",
   "execution_count": 1,
   "metadata": {},
   "outputs": [],
   "source": [
    "import matplotlib.pyplot as plt\n",
    "import networkx as nx\n",
    "from igraph import *\n",
    "import random"
   ]
  },
  {
   "cell_type": "code",
   "execution_count": 2,
   "metadata": {},
   "outputs": [],
   "source": [
    "G1 = Graph.Read('/home/dheeraj/my_projects/my_project_env/practice/6th_sem_Academics/SocialNetworkAnalysis/HandsOn/epidemic/karate.gml')"
   ]
  },
  {
   "cell_type": "code",
   "execution_count": 6,
   "metadata": {},
   "outputs": [],
   "source": [
    "susceptiple_nodes = {0: {\"status\": \"susceptible\",\"color\": \"green\", \"timestamp\": 0 } }\n",
    "for i in range(1, G1.vcount()):\n",
    "    susceptiple_nodes[i] = {\"status\": \"susceptible\",\"color\": \"green\", \"timestamp\": 0 } \n",
    "    susceptiple_nodes.update(susceptiple_nodes)"
   ]
  },
  {
   "cell_type": "code",
   "execution_count": 7,
   "metadata": {},
   "outputs": [
    {
     "name": "stdout",
     "output_type": "stream",
     "text": [
      "{0: {'status': 'susceptible', 'color': 'green', 'timestamp': 0}, 1: {'status': 'susceptible', 'color': 'green', 'timestamp': 0}, 2: {'status': 'susceptible', 'color': 'green', 'timestamp': 0}, 3: {'status': 'susceptible', 'color': 'green', 'timestamp': 0}, 4: {'status': 'susceptible', 'color': 'green', 'timestamp': 0}, 5: {'status': 'susceptible', 'color': 'green', 'timestamp': 0}, 6: {'status': 'susceptible', 'color': 'green', 'timestamp': 0}, 7: {'status': 'susceptible', 'color': 'green', 'timestamp': 0}, 8: {'status': 'susceptible', 'color': 'green', 'timestamp': 0}, 9: {'status': 'susceptible', 'color': 'green', 'timestamp': 0}, 10: {'status': 'susceptible', 'color': 'green', 'timestamp': 0}, 11: {'status': 'susceptible', 'color': 'green', 'timestamp': 0}, 12: {'status': 'susceptible', 'color': 'green', 'timestamp': 0}, 13: {'status': 'susceptible', 'color': 'green', 'timestamp': 0}, 14: {'status': 'susceptible', 'color': 'green', 'timestamp': 0}, 15: {'status': 'susceptible', 'color': 'green', 'timestamp': 0}, 16: {'status': 'susceptible', 'color': 'green', 'timestamp': 0}, 17: {'status': 'susceptible', 'color': 'green', 'timestamp': 0}, 18: {'status': 'susceptible', 'color': 'green', 'timestamp': 0}, 19: {'status': 'susceptible', 'color': 'green', 'timestamp': 0}, 20: {'status': 'susceptible', 'color': 'green', 'timestamp': 0}, 21: {'status': 'susceptible', 'color': 'green', 'timestamp': 0}, 22: {'status': 'susceptible', 'color': 'green', 'timestamp': 0}, 23: {'status': 'susceptible', 'color': 'green', 'timestamp': 0}, 24: {'status': 'susceptible', 'color': 'green', 'timestamp': 0}, 25: {'status': 'susceptible', 'color': 'green', 'timestamp': 0}, 26: {'status': 'susceptible', 'color': 'green', 'timestamp': 0}, 27: {'status': 'susceptible', 'color': 'green', 'timestamp': 0}, 28: {'status': 'susceptible', 'color': 'green', 'timestamp': 0}, 29: {'status': 'susceptible', 'color': 'green', 'timestamp': 0}, 30: {'status': 'susceptible', 'color': 'green', 'timestamp': 0}, 31: {'status': 'susceptible', 'color': 'green', 'timestamp': 0}, 32: {'status': 'susceptible', 'color': 'green', 'timestamp': 0}, 33: {'status': 'susceptible', 'color': 'green', 'timestamp': 0}}\n"
     ]
    }
   ],
   "source": [
    "print(susceptiple_nodes)"
   ]
  },
  {
   "cell_type": "code",
   "execution_count": null,
   "metadata": {},
   "outputs": [],
   "source": []
  }
 ],
 "metadata": {
  "kernelspec": {
   "display_name": "Python 3",
   "language": "python",
   "name": "python3"
  },
  "language_info": {
   "codemirror_mode": {
    "name": "ipython",
    "version": 3
   },
   "file_extension": ".py",
   "mimetype": "text/x-python",
   "name": "python",
   "nbconvert_exporter": "python",
   "pygments_lexer": "ipython3",
   "version": "3.6.8"
  }
 },
 "nbformat": 4,
 "nbformat_minor": 2
}
