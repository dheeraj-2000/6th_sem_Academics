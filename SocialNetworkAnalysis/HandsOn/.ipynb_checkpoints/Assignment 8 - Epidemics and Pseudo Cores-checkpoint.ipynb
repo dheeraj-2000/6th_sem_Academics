{
 "cells": [
  {
   "cell_type": "markdown",
   "metadata": {},
   "source": [
    "### Libraries"
   ]
  },
  {
   "cell_type": "code",
   "execution_count": null,
   "metadata": {},
   "outputs": [],
   "source": [
    "from igraph import *\n",
    "import numpy as np\n",
    "import pandas as pd\n",
    "import random"
   ]
  },
  {
   "cell_type": "markdown",
   "metadata": {},
   "source": [
    "### Reading the graph (Select either karate network and dolphin network)"
   ]
  },
  {
   "cell_type": "code",
   "execution_count": null,
   "metadata": {},
   "outputs": [],
   "source": [
    "#G1 = Graph.Read(\"karate.GML\")\n",
    "#number_of_vertices = 34\n",
    "\n",
    "G1 = Graph.Read(\"dolphins.GML\")\n",
    "number_of_vertices = 62"
   ]
  },
  {
   "cell_type": "markdown",
   "metadata": {},
   "source": [
    "### Visualising the graph"
   ]
  },
  {
   "cell_type": "code",
   "execution_count": null,
   "metadata": {},
   "outputs": [],
   "source": [
    "#no infection in the network\n",
    "plot(G1, vertex_color = \"white\")"
   ]
  },
  {
   "cell_type": "markdown",
   "metadata": {},
   "source": [
    "### Creating a node list for assigning attributes"
   ]
  },
  {
   "cell_type": "code",
   "execution_count": null,
   "metadata": {},
   "outputs": [],
   "source": [
    "node_list = list()\n",
    "for i in range(0,number_of_vertices):\n",
    "    node_list.append(i)\n",
    "#print(node_list)\n",
    "infectious_nodes = list()"
   ]
  },
  {
   "cell_type": "markdown",
   "metadata": {},
   "source": [
    "### Define Infected nodes"
   ]
  },
  {
   "cell_type": "code",
   "execution_count": null,
   "metadata": {},
   "outputs": [],
   "source": [
    "def seed_nodes():\n",
    "    seed_node = node_list[13:14]\n",
    "    for node in seed_node:\n",
    "        infectious_nodes.append(node)\n",
    "    return seed_node\n",
    "seednodes = seed_nodes()"
   ]
  },
  {
   "cell_type": "markdown",
   "metadata": {},
   "source": [
    "### Define function for assigning attributes for susceptible, exposed, infectious, recovered nodes"
   ]
  },
  {
   "cell_type": "code",
   "execution_count": null,
   "metadata": {},
   "outputs": [],
   "source": [
    "# initial nodes are not susceptible nor exposed nor infectious nor recovered.\n",
    "G1.vs\n",
    "for item in node_list:\n",
    "    G1.vs[item][\"label\"] = item\n",
    "G1.vs[node_list][\"status\"] = \"clean\""
   ]
  },
  {
   "cell_type": "code",
   "execution_count": null,
   "metadata": {},
   "outputs": [],
   "source": [
    "susceptible_nodes = list()\n",
    "# susceptible nodes assignment\n",
    "def set_susceptible(G,nodelist):\n",
    "    G.vs[nodelist][\"status\"] = \"susceptible\"\n",
    "set_susceptible(G1,susceptible_nodes)"
   ]
  },
  {
   "cell_type": "code",
   "execution_count": null,
   "metadata": {},
   "outputs": [],
   "source": [
    "exposed_nodes = list()\n",
    "# esposed nodes assignment\n",
    "def set_exposed(G,nodelist):\n",
    "    G.vs[nodelist][\"status\"] = \"exposed\"\n",
    "set_exposed(G1,exposed_nodes)"
   ]
  },
  {
   "cell_type": "code",
   "execution_count": null,
   "metadata": {},
   "outputs": [],
   "source": [
    "# susceptible nodes assignment\n",
    "def set_infectious(G,nodelist):\n",
    "    G.vs[nodelist][\"status\"] = \"infectious\"\n",
    "set_infectious(G1,infectious_nodes)"
   ]
  },
  {
   "cell_type": "code",
   "execution_count": null,
   "metadata": {},
   "outputs": [],
   "source": [
    "recovered_nodes = list()\n",
    "# recoved nodes assignment\n",
    "def set_recovered(G,nodelist):\n",
    "    G.vs[nodelist][\"status\"] = \"recovered\"\n",
    "set_recovered(G1,recovered_nodes)"
   ]
  },
  {
   "cell_type": "code",
   "execution_count": null,
   "metadata": {},
   "outputs": [],
   "source": [
    "def set_infected_nodes(G,seednodes):\n",
    "    for node in seednodes:\n",
    "        G.vs[node][\"status\"] = \"infectious\"\n",
    "set_infected_nodes(G1,seednodes)"
   ]
  },
  {
   "cell_type": "code",
   "execution_count": null,
   "metadata": {},
   "outputs": [],
   "source": [
    "def set_empty(G,nodelist):\n",
    "    G.vs[nodelist][\"status\"] = \"empty\""
   ]
  },
  {
   "cell_type": "code",
   "execution_count": null,
   "metadata": {},
   "outputs": [],
   "source": [
    "def get_colors(G):\n",
    "    list1 = []\n",
    "    for each in node_list:\n",
    "        if G.vs[\"status\"][each] == \"exposed\":\n",
    "            list1.append(\"pink\")\n",
    "        elif G.vs[\"status\"][each] == \"infectious\":\n",
    "            list1.append(\"red\")\n",
    "        elif G.vs[\"status\"][each] == \"recovered\":\n",
    "            list1.append(\"yellow\")\n",
    "        elif G.vs[\"status\"][each] == \"susceptible\":\n",
    "            list1.append(\"blue\")\n",
    "        elif G.vs[\"status\"][each] == \"empty\":\n",
    "            list1.append(\"white\")\n",
    "        else:\n",
    "            list1.append(\"white\")\n",
    "            \n",
    "    return list1\n",
    "colors = get_colors(G1)\n",
    "G1.vs[\"colors\"] = colors\n",
    "plot(G1, vertex_color = colors)"
   ]
  },
  {
   "cell_type": "code",
   "execution_count": null,
   "metadata": {},
   "outputs": [],
   "source": [
    "def neighbors(G,node):\n",
    "    neighbour_nodes = G.neighbors(node)\n",
    "    return neighbour_nodes\n",
    "#neighbors_nodes = neighbors(G1,node)"
   ]
  },
  {
   "cell_type": "code",
   "execution_count": null,
   "metadata": {},
   "outputs": [],
   "source": [
    "timestamp = 0\n",
    "while(True):\n",
    "    \n",
    "    if len(infectious_nodes) == 0:\n",
    "        break\n",
    "    for item in infectious_nodes:\n",
    "        timestamp = timestamp + 1\n",
    "        #if timestamp == 20:\n",
    "            #break\n",
    "        #people prone to infection\n",
    "        neighbors_nodes = neighbors(G1,item)\n",
    "        for nodes in neighbors_nodes:\n",
    "            if nodes not in recovered_nodes:\n",
    "                set_susceptible(G1,nodes)\n",
    "                if nodes not in susceptible_nodes:\n",
    "                    susceptible_nodes.append(nodes)\n",
    "\n",
    "        # people who are infected\n",
    "        for nodes in susceptible_nodes:    \n",
    "            prob = random.uniform(0,1)\n",
    "            #print(prob)\n",
    "            if prob >= 0.5:\n",
    "                set_exposed(G1,nodes)\n",
    "                if nodes not in exposed_nodes:\n",
    "                    exposed_nodes.append(nodes)\n",
    "                susceptible_nodes.remove(nodes)\n",
    "        #infectious nodes p = 0.5\n",
    "        for nodes in exposed_nodes:\n",
    "            prob = random.uniform(0,1)\n",
    "            if prob >= 0.5:\n",
    "                set_infectious(G1, nodes)\n",
    "                if nodes not in infectious_nodes:\n",
    "                    infectious_nodes.append(nodes)\n",
    "        if timestamp % 5 == 0:\n",
    "            for nodes in exposed_nodes:\n",
    "                prob = random.uniform(0,1)\n",
    "                if prob >= 0.5:\n",
    "                    exposed_nodes.remove(nodes)\n",
    "                    if nodes in infectious_nodes:\n",
    "                        infectious_nodes.remove(nodes)\n",
    "                    set_recovered(G1,nodes)\n",
    "                    if nodes not in recovered_nodes:\n",
    "                        recovered_nodes.append(nodes)\n",
    "        if timestamp % 14 == 0:\n",
    "            for nodes in infectious_nodes:\n",
    "                prob = random.uniform(0,1)\n",
    "                if prob >= 0.5:\n",
    "                    infectious_nodes.remove(nodes)\n",
    "                    set_recovered(G1,nodes)\n",
    "                    if nodes not in recovered_nodes:\n",
    "                        recovered_nodes.append(nodes)\n",
    "        if timestamp % 4 == 0:\n",
    "            for nodes in recovered_nodes:\n",
    "                prob = random.uniform(0,1)\n",
    "                if prob >= 0.8:\n",
    "                    recovered_nodes.remove(nodes)\n",
    "                    #set_empty(G1,nodes)\n",
    "        #print(timestamp)\n",
    "\n",
    "        colors = get_colors(G1)\n",
    "        G1.vs[\"colors\"] = colors\n",
    "        plot(G1, \"fig_{}.png\".format(timestamp),vertex_color = colors)\n",
    "    #if timestamp == 20:\n",
    "        #break"
   ]
  },
  {
   "cell_type": "code",
   "execution_count": null,
   "metadata": {},
   "outputs": [],
   "source": [
    "colors = get_colors(G1)\n",
    "G1.vs[\"colors\"] = colors\n",
    "plot(G1, \"fig_{}.png\".format(timestamp),vertex_color = colors)"
   ]
  },
  {
   "cell_type": "code",
   "execution_count": null,
   "metadata": {},
   "outputs": [],
   "source": []
  }
 ],
 "metadata": {
  "kernelspec": {
   "display_name": "Python 3",
   "language": "python",
   "name": "python3"
  },
  "language_info": {
   "codemirror_mode": {
    "name": "ipython",
    "version": 3
   },
   "file_extension": ".py",
   "mimetype": "text/x-python",
   "name": "python",
   "nbconvert_exporter": "python",
   "pygments_lexer": "ipython3",
   "version": "3.6.8"
  }
 },
 "nbformat": 4,
 "nbformat_minor": 2
}
