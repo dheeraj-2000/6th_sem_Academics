{
 "cells": [
  {
   "cell_type": "code",
   "execution_count": 1,
   "metadata": {},
   "outputs": [],
   "source": [
    "#import igraph\n",
    "#from igraph import *\n",
    "import matplotlib.pyplot as plt\n",
    "import networkx as nx"
   ]
  },
  {
   "cell_type": "code",
   "execution_count": 5,
   "metadata": {},
   "outputs": [],
   "source": [
    "#g = nx.erdos_renyi_graph(10, 0.5)\n",
    "#nx.write_gml(g, '/home/dheeraj/my_projects/my_project_env/practice/6th_sem_Academics/SocialNetworkAnalysis/HandsOn/Modeling_cascading/main_graph.gml')"
   ]
  },
  {
   "cell_type": "code",
   "execution_count": null,
   "metadata": {},
   "outputs": [],
   "source": [
    "t = int(input('Enter Number of Test cases: '))\n",
    "#g = nx.erdos_renyi_graph(20, 0.5)\n",
    "g = nx.Graph()\n",
    "\n",
    "g.add_edges_from([(\"1\",\"2\"), (\"1\",\"3\"), (\"2\", \"3\"), (\"2\",\"6\"), (\"6\",\"4\"), (\"6\", \"9\"), (\"4\",\"5\"), (\"4\",\"7\"), (\"5\", \"7\"), (\"5\", \"8\"), (\"8\", \"7\"), (\"8\", \"10\"), (\"8\", \"14\"), (\"9\", \"7\"), (\"9\", \"10\"), (\"9\", \"11\"), (\"7\", \"10\"), (\"10\", \"12\"), (\"11\", \"12\"), (\"11\", \"15\"), (\"12\", \"15\"), (\"12\", \"16\"), (\"13\", \"12\"), (\"13\", \"16\"), (\"13\", \"14\"), (\"13\", \"17\"), (\"14\", \"17\"), (\"17\", \"16\"), (\"15\",\"16\")])\n",
    "\n",
    "nx.draw(g, with_labels=True)\n",
    "plt.show()\n",
    "#g = nx.read_gml('/home/dheeraj/my_projects/my_project_env/practice/6th_sem_Academics/SocialNetworkAnalysis/HandsOn/Modeling_cascading/main_graph.gml')\n",
    "\n",
    "while(t):\n",
    "\n",
    "    b = int(input('Enter PAYOFF for Initial bahaviour: '))\n",
    "    a = int(input('Enter PAYOFF for New bahaviour: '))\n",
    "\n",
    "    def col_fun(g):\n",
    "        infected_seed=[]\n",
    "        for each in g.nodes():\n",
    "            if g.nodes[each]['behaviour']=='initial_behaviour':\n",
    "                infected_seed.append('yellow')\n",
    "            else:\n",
    "                infected_seed.append('green')\n",
    "        return infected_seed\n",
    "\n",
    "    def find_neigh(each, c, g):\n",
    "        num=0\n",
    "        for each1 in g.neighbors(each):\n",
    "            if g.nodes[each1]['behaviour']==c:\n",
    "                num=num+1\n",
    "        return num\n",
    "\n",
    "    def recalculate_options(g):\n",
    "        dict1= {}\n",
    "        #Payoff(A) =a=5\n",
    "        #Payoff(B) =b=2\n",
    "        #a=5\n",
    "        #b=2\n",
    "       # a = int(input('Enter payoff for new bahaviour: '))\n",
    "        #b = int(input('Enter payoff for initial bahaviour: '))\n",
    "        for each in g.nodes():\n",
    "            num_A = find_neigh(each, 'new_behaviour', g)\n",
    "            num_B = find_neigh(each, 'initial_behaviour', g)\n",
    "            payoff_A=a*num_A\n",
    "            payoff_B=b*num_B\n",
    "            if payoff_A >= payoff_B:\n",
    "                dict1[each]='new_behaviour'\n",
    "            else:\n",
    "                dict1[each]= 'initial_behaviour'\n",
    "        return dict1\n",
    "\n",
    "    def terminate_1(c, g):\n",
    "        f=1\n",
    "        for each in g.nodes():\n",
    "            if g.nodes[each]['behaviour']!=c:\n",
    "                f=0\n",
    "                break\n",
    "        return f\n",
    "\n",
    "    def terminate(g, count):\n",
    "        flag1=terminate_1('new_behaviour', g)\n",
    "        flag2=terminate_1('initial_behaviour',g)\n",
    "        if flag1==1 or flag2==1 or count==100:\n",
    "            return 1\n",
    "        else:\n",
    "            return 0\n",
    "\n",
    "\n",
    "    external_behaviour = \"new_behaviour\"\n",
    "    bahaviour_1 = \"initial_behaviour\"\n",
    "    for each in g.nodes():\n",
    "        g.nodes[each]['behaviour'] = bahaviour_1\n",
    "\n",
    "    #n1 = input()\n",
    "    #n2 = input()\n",
    "    #infected_seed = [2,5,8]\n",
    "    infected_seed = []\n",
    "    n= int(input(\"Enter number of inital seeds: \"))\n",
    "\n",
    "    for i in range(0,n):\n",
    "        seed_val = int(input('Enter seed value: '))\n",
    "        infected_seed.append(seed_val)\n",
    "\n",
    "    print('Initial seed input is: ', infected_seed)\n",
    "\n",
    "\n",
    "\n",
    "\n",
    "    for each in infected_seed:\n",
    "        g.nodes[each]['behaviour'] = external_behaviour\n",
    "\n",
    "    #colors = col_fun(g)\n",
    "\n",
    "    #a = input(\"payoff for A: \")\n",
    "    #b= input(\"payoff for B: \")\n",
    "    temp =0\n",
    "    count =0\n",
    "    while(1):\n",
    "        temp = terminate(g, count)\n",
    "        if temp==1:\n",
    "            break\n",
    "        count = count+1\n",
    "        behaviour_di  = recalculate_options(g)\n",
    "        # reset_node_attributes(g, behaviour_di)\n",
    "            # def reset_node_attributes(g, behaviour_di):\n",
    "        for each in behaviour_di:\n",
    "            g.nodes[each]['behaviour']= behaviour_di[each]\n",
    "        colors = col_fun(g)\n",
    "    count2 = 0\n",
    "    c =terminate_1('new_behaviour', g)\n",
    "    if c==1:\n",
    "        print('cascade is COMPLETE ( with cascading size of: ', len(g),')')\n",
    "    else:\n",
    "        print('cascade is incomplete')\n",
    "        for i in g.nodes():\n",
    "            if(g.nodes[i]['behaviour'] == \"new_behaviour\"):\n",
    "                count2 = count2 +1\n",
    "            print(count2)\n",
    "        \n",
    "    nx.draw(g,node_color= colors , node_size=1200,with_labels=True)\n",
    "    plt.show()\n",
    "    t=t-1\n"
   ]
  },
  {
   "cell_type": "code",
   "execution_count": 4,
   "metadata": {},
   "outputs": [],
   "source": [
    "## g = nx.read_gml('/home/dheeraj/my_projects/my_project_env/practice/6th_sem_Academics/SocialNetworkAnalysis/HandsOn/Modeling_cascading/main_graph.gml')"
   ]
  },
  {
   "cell_type": "code",
   "execution_count": 5,
   "metadata": {},
   "outputs": [],
   "source": [
    "#nx.draw(g, with_labels=True)"
   ]
  },
  {
   "cell_type": "code",
   "execution_count": 6,
   "metadata": {},
   "outputs": [],
   "source": [
    "#set_all_B(g)"
   ]
  },
  {
   "cell_type": "code",
   "execution_count": 7,
   "metadata": {},
   "outputs": [],
   "source": [
    "#list1=[2,5]"
   ]
  },
  {
   "cell_type": "code",
   "execution_count": 8,
   "metadata": {},
   "outputs": [],
   "source": [
    "#colors= get_colors(g)"
   ]
  },
  {
   "cell_type": "code",
   "execution_count": 9,
   "metadata": {},
   "outputs": [],
   "source": [
    "#nx.draw(g, node_color = colors, node_size=800, with_labels=True)\n",
    "#plt.show()"
   ]
  },
  {
   "cell_type": "code",
   "execution_count": null,
   "metadata": {},
   "outputs": [],
   "source": []
  },
  {
   "cell_type": "code",
   "execution_count": 10,
   "metadata": {},
   "outputs": [],
   "source": [
    "#g = nx.parse_edgelist('/home/dheeraj/my_projects/my_project_env/practice/6th_sem_Academics/SocialNetworkAnalysis/HandsOn/Modeling_cascading/mygraph.csv')"
   ]
  },
  {
   "cell_type": "code",
   "execution_count": 11,
   "metadata": {},
   "outputs": [],
   "source": [
    "#g = nx.erdos_renyi_graph(20, 0.5)"
   ]
  },
  {
   "cell_type": "code",
   "execution_count": 7,
   "metadata": {},
   "outputs": [
    {
     "data": {
      "text/plain": [
       "20"
      ]
     },
     "execution_count": 7,
     "metadata": {},
     "output_type": "execute_result"
    }
   ],
   "source": [
    "#len(g)"
   ]
  },
  {
   "cell_type": "code",
   "execution_count": 54,
   "metadata": {},
   "outputs": [
    {
     "data": {
      "text/plain": [
       "{'action': 'A'}"
      ]
     },
     "execution_count": 54,
     "metadata": {},
     "output_type": "execute_result"
    }
   ],
   "source": [
    "#g.nodes[1]"
   ]
  },
  {
   "cell_type": "code",
   "execution_count": 57,
   "metadata": {},
   "outputs": [],
   "source": [
    "\n",
    "#action_dict  = recalculate_options(g)\n"
   ]
  },
  {
   "cell_type": "code",
   "execution_count": 2,
   "metadata": {},
   "outputs": [
    {
     "data": {
      "image/png": "[encoded data removed]",
      "text/plain": [
       "<Figure size 432x288 with 1 Axes>"
      ]
     },
     "metadata": {},
     "output_type": "display_data"
    }
   ],
   "source": [
    "g = nx.Graph()\n",
    "\n",
    "g.add_edges_from([(\"1\",\"2\"), (\"1\",\"3\"), (\"2\", \"3\"), (\"2\",\"6\"), (\"6\",\"4\"), (\"6\", \"9\"), (\"4\",\"5\"), (\"4\",\"7\"), (\"5\", \"7\"), (\"5\", \"8\"), (\"8\", \"7\"), (\"8\", \"10\"), (\"8\", \"14\"), (\"9\", \"7\"), (\"9\", \"10\"), (\"9\", \"11\"), (\"7\", \"10\"), (\"10\", \"12\"), (\"11\", \"12\"), (\"11\", \"15\"), (\"12\", \"15\"), (\"12\", \"16\"), (\"13\", \"12\"), (\"13\", \"16\"), (\"13\", \"14\"), (\"13\", \"17\"), (\"14\", \"17\"), (\"17\", \"16\"), (\"15\",\"16\")])\n",
    "nx.draw(g,node_size=1200, with_labels=True)\n",
    "plt.show()\n"
   ]
  },
  {
   "cell_type": "code",
   "execution_count": 3,
   "metadata": {},
   "outputs": [],
   "source": [
    "#reset_node_attributes(g, action_dict)"
   ]
  },
  {
   "cell_type": "code",
   "execution_count": 4,
   "metadata": {},
   "outputs": [],
   "source": [
    "#colors = get_colors(g)"
   ]
  },
  {
   "cell_type": "code",
   "execution_count": 5,
   "metadata": {},
   "outputs": [],
   "source": [
    "#nx.draw(g,node_color= colors , node_size=800,with_labels=True)\n",
    "#plt.show()"
   ]
  },
  {
   "cell_type": "code",
   "execution_count": 3,
   "metadata": {},
   "outputs": [
    {
     "ename": "KeyboardInterrupt",
     "evalue": "Interrupted by user",
     "output_type": "error",
     "traceback": [
      "\u001b[0;31m---------------------------------------------------------------------------\u001b[0m",
      "\u001b[0;31mKeyboardInterrupt\u001b[0m                         Traceback (most recent call last)",
      "\u001b[0;32m<ipython-input-3-4e1a4a17d93d>\u001b[0m in \u001b[0;36m<module>\u001b[0;34m\u001b[0m\n\u001b[0;32m----> 1\u001b[0;31m \u001b[0mt\u001b[0m \u001b[0;34m=\u001b[0m \u001b[0mint\u001b[0m\u001b[0;34m(\u001b[0m\u001b[0minput\u001b[0m\u001b[0;34m(\u001b[0m\u001b[0;34m'Enter Number of Test cases: '\u001b[0m\u001b[0;34m)\u001b[0m\u001b[0;34m)\u001b[0m\u001b[0;34m\u001b[0m\u001b[0;34m\u001b[0m\u001b[0m\n\u001b[0m\u001b[1;32m      2\u001b[0m \u001b[0;31m#g = nx.erdos_renyi_graph(20, 0.5)\u001b[0m\u001b[0;34m\u001b[0m\u001b[0;34m\u001b[0m\u001b[0;34m\u001b[0m\u001b[0m\n\u001b[1;32m      3\u001b[0m \u001b[0;34m\u001b[0m\u001b[0m\n\u001b[1;32m      4\u001b[0m \u001b[0;31m#g = nx.read_gml('/home/dheeraj/my_projects/my_project_env/practice/6th_sem_Academics/SocialNetworkAnalysis/HandsOn/Modeling_cascading/main_graph.gml')\u001b[0m\u001b[0;34m\u001b[0m\u001b[0;34m\u001b[0m\u001b[0;34m\u001b[0m\u001b[0m\n\u001b[1;32m      5\u001b[0m \u001b[0mg\u001b[0m \u001b[0;34m=\u001b[0m \u001b[0mnx\u001b[0m\u001b[0;34m.\u001b[0m\u001b[0mGraph\u001b[0m\u001b[0;34m(\u001b[0m\u001b[0;34m)\u001b[0m\u001b[0;34m\u001b[0m\u001b[0;34m\u001b[0m\u001b[0m\n",
      "\u001b[0;32m~/.local/lib/python3.6/site-packages/ipykernel/kernelbase.py\u001b[0m in \u001b[0;36mraw_input\u001b[0;34m(self, prompt)\u001b[0m\n\u001b[1;32m    861\u001b[0m             \u001b[0mself\u001b[0m\u001b[0;34m.\u001b[0m\u001b[0m_parent_ident\u001b[0m\u001b[0;34m,\u001b[0m\u001b[0;34m\u001b[0m\u001b[0;34m\u001b[0m\u001b[0m\n\u001b[1;32m    862\u001b[0m             \u001b[0mself\u001b[0m\u001b[0;34m.\u001b[0m\u001b[0m_parent_header\u001b[0m\u001b[0;34m,\u001b[0m\u001b[0;34m\u001b[0m\u001b[0;34m\u001b[0m\u001b[0m\n\u001b[0;32m--> 863\u001b[0;31m             \u001b[0mpassword\u001b[0m\u001b[0;34m=\u001b[0m\u001b[0;32mFalse\u001b[0m\u001b[0;34m,\u001b[0m\u001b[0;34m\u001b[0m\u001b[0;34m\u001b[0m\u001b[0m\n\u001b[0m\u001b[1;32m    864\u001b[0m         )\n\u001b[1;32m    865\u001b[0m \u001b[0;34m\u001b[0m\u001b[0m\n",
      "\u001b[0;32m~/.local/lib/python3.6/site-packages/ipykernel/kernelbase.py\u001b[0m in \u001b[0;36m_input_request\u001b[0;34m(self, prompt, ident, parent, password)\u001b[0m\n\u001b[1;32m    891\u001b[0m             \u001b[0;32mexcept\u001b[0m \u001b[0mKeyboardInterrupt\u001b[0m\u001b[0;34m:\u001b[0m\u001b[0;34m\u001b[0m\u001b[0;34m\u001b[0m\u001b[0m\n\u001b[1;32m    892\u001b[0m                 \u001b[0;31m# re-raise KeyboardInterrupt, to truncate traceback\u001b[0m\u001b[0;34m\u001b[0m\u001b[0;34m\u001b[0m\u001b[0;34m\u001b[0m\u001b[0m\n\u001b[0;32m--> 893\u001b[0;31m                 \u001b[0;32mraise\u001b[0m \u001b[0mKeyboardInterrupt\u001b[0m\u001b[0;34m(\u001b[0m\u001b[0;34m\"Interrupted by user\"\u001b[0m\u001b[0;34m)\u001b[0m \u001b[0;32mfrom\u001b[0m \u001b[0;32mNone\u001b[0m\u001b[0;34m\u001b[0m\u001b[0;34m\u001b[0m\u001b[0m\n\u001b[0m\u001b[1;32m    894\u001b[0m             \u001b[0;32melse\u001b[0m\u001b[0;34m:\u001b[0m\u001b[0;34m\u001b[0m\u001b[0;34m\u001b[0m\u001b[0m\n\u001b[1;32m    895\u001b[0m                 \u001b[0;32mbreak\u001b[0m\u001b[0;34m\u001b[0m\u001b[0;34m\u001b[0m\u001b[0m\n",
      "\u001b[0;31mKeyboardInterrupt\u001b[0m: Interrupted by user"
     ]
    }
   ],
   "source": [
    "t = int(input('Enter Number of Test cases: '))\n",
    "#g = nx.erdos_renyi_graph(20, 0.5)\n",
    "\n",
    "#g = nx.read_gml('/home/dheeraj/my_projects/my_project_env/practice/6th_sem_Academics/SocialNetworkAnalysis/HandsOn/Modeling_cascading/main_graph.gml')\n",
    "g = nx.Graph()\n",
    "\n",
    "g.add_edges_from([(\"1\",\"2\"), (\"1\",\"3\"), (\"2\", \"3\"), (\"2\",\"6\"), (\"6\",\"4\"), (\"6\", \"9\"), (\"4\",\"5\"), (\"4\",\"7\"), (\"5\", \"7\"), (\"5\", \"8\"), (\"8\", \"7\"), (\"8\", \"10\"), (\"8\", \"14\"), (\"9\", \"7\"), (\"9\", \"10\"), (\"9\", \"11\"), (\"7\", \"10\"), (\"10\", \"12\"), (\"11\", \"12\"), (\"11\", \"15\"), (\"12\", \"15\"), (\"12\", \"16\"), (\"13\", \"12\"), (\"13\", \"16\"), (\"13\", \"14\"), (\"13\", \"17\"), (\"14\", \"17\"), (\"17\", \"16\"), (\"15\",\"16\")])\n",
    "nx.write_gml(g,'/home/stark/Desktop/a.gml')\n",
    "nx.draw(g,node_size=1200, with_labels=True)\n",
    "plt.show()\n",
    "\n",
    "while(t):\n",
    "    \n",
    "    b = int(input('Enter PAYOFF for Initial bahaviour: '))\n",
    "    a = int(input('Enter PAYOFF for New bahaviour: '))\n",
    "    \n",
    "#     def col_list(g):\n",
    "#         infected_seed=[]\n",
    "#         for each in g.nodes():\n",
    "#             if g.nodes[each]['behaviour']=='initial_behaviour':\n",
    "#                 infected_seed.append('yellow')\n",
    "#             else:\n",
    "#                 infected_seed.append('green')\n",
    "#         return infected_seed\n",
    "\n",
    "    def find_neigh(each, c, g):\n",
    "        num=0\n",
    "        for each1 in g.neighbors(each):\n",
    "            if g.nodes[each1]['behaviour']==c:\n",
    "                num=num+1\n",
    "        return num\n",
    "\n",
    "    def recalculate_options(g):\n",
    "        dict1= {}\n",
    "        #Payoff(A) =a=4\n",
    "        #Payoff(B) =b=3\n",
    "        #a=5\n",
    "        #b=2\n",
    "       # a = int(input('Enter payoff for new bahaviour: '))\n",
    "        #b = int(input('Enter payoff for initial bahaviour: '))\n",
    "        for each in g.nodes():\n",
    "            num_A = find_neigh(each, 'new_behaviour', g)\n",
    "            num_B = find_neigh(each, 'initial_behaviour', g)\n",
    "            payoff_A=a*num_A\n",
    "            payoff_B=b*num_B\n",
    "            if payoff_A >= payoff_B:\n",
    "                dict1[each]='new_behaviour'\n",
    "            else:\n",
    "                dict1[each]= 'initial_behaviour'\n",
    "        return dict1\n",
    "\n",
    "    def reset_node_attributes(g, behaviour_di):\n",
    "        for each in behaviour_di:\n",
    "            g.nodes[each]['behaviour']= behaviour_di[each]\n",
    "        \n",
    "    def terminate_1(c, g):\n",
    "        f=1\n",
    "        for each in g.nodes():\n",
    "            if g.nodes[each]['behaviour']!=c:\n",
    "                f=0\n",
    "                break\n",
    "        return f\n",
    "\n",
    "    def terminate(g, count):\n",
    "        flag1=terminate_1('new_behaviour', g)\n",
    "        flag2=terminate_1('initial_behaviour',g)\n",
    "        if flag1==1 or flag2==1 or count>=100:\n",
    "            return 1\n",
    "        else:\n",
    "            return 0\n",
    "    \n",
    "\n",
    "\n",
    "        \n",
    "    for u in g.nodes():\n",
    "        for v in g.nodes():\n",
    "            if u<v:\n",
    "                print(u,v, ':')\n",
    "                infected_seed = []\n",
    "                infected_seed.append(u)\n",
    "                infected_seed.append(v)\n",
    "            \n",
    "            \n",
    "                external_behaviour = \"new_behaviour\"\n",
    "                bahaviour_1 = \"initial_behaviour\"\n",
    "                for each in g.nodes():\n",
    "                    g.nodes[each]['behaviour'] = bahaviour_1\n",
    "    \n",
    "\n",
    "                for each in infected_seed:\n",
    "                    g.nodes[each]['behaviour'] = external_behaviour \n",
    "                \n",
    "                temp =0\n",
    "                count =0\n",
    "                while(1):\n",
    "                    temp = terminate(g, count)\n",
    "                    if temp==1:\n",
    "                        break\n",
    "                    count = count+1\n",
    "                    behaviour_di  = recalculate_options(g)\n",
    "                    reset_node_attributes(g, behaviour_di)\n",
    "                    \n",
    "                    infected_seed=[]\n",
    "                    for each in g.nodes():\n",
    "                        if g.nodes[each]['behaviour']=='initial_behaviour':\n",
    "                            infected_seed.append('yellow')\n",
    "                        else:\n",
    "                            infected_seed.append('green')\n",
    "                    \n",
    "                    colors = infected_seed\n",
    "                    \n",
    "#                     nx.draw(g,node_color= colors , node_size=1200,with_labels=True)\n",
    "#                     plt.show()\n",
    "\n",
    "                c =terminate_1('new_behaviour', g)\n",
    "                if c==1:\n",
    "                    print('cascade complete with size: ', len(g))\n",
    "                else:\n",
    "                    print('cascade incomplete')\n",
    "                    count =0\n",
    "                    for i in g.nodes():\n",
    "                        if(g.nodes[i]['behaviour'] == \"new_behaviour\"):\n",
    "                            count = count +1\n",
    "                    print(count)\n",
    "                \n",
    "                \n",
    "                            "
   ]
  },
  {
   "cell_type": "code",
   "execution_count": null,
   "metadata": {},
   "outputs": [],
   "source": [
    "# for u in g.nodes():\n",
    "#     for v in g.nodes():\n",
    "#         if u<v:\n",
    "#             print(u,v, ':')\n",
    "#             list1 = []\n",
    "#             list1.append(u)\n",
    "#             list1.append(v)\n",
    "            \n",
    "            \n",
    "#             action1 = \"A\"\n",
    "#             action2 = \"B\"\n",
    "#             for each in g.nodes():\n",
    "#                 g.nodes[each]['action'] = action2\n",
    "                \n",
    "#             for each in list1:\n",
    "#                 g.nodes[each]['action'] = action1 \n",
    "                \n",
    "#             flag =0\n",
    "#             count =0\n",
    "#             while(1):\n",
    "#                 flag = terminate(g, count)\n",
    "#                 if flag==1:\n",
    "#                     break\n",
    "#                 count = count+1\n",
    "#                 action_dict  = recalculate_options(g)\n",
    "#                 reset_node_attributes(g, action_dict)\n",
    "#             colors = get_colors(g)\n",
    "\n",
    "#             c =terminate_1('A', g)\n",
    "#             if c==1:\n",
    "#                 print('cascade complete')\n",
    "#             else:\n",
    "#                 print('cascade incomplete') \n",
    "\n",
    "# #nx.draw(g,node_color= colors , node_size=800,with_labels=True)\n",
    "# #plt.show()"
   ]
  },
  {
   "cell_type": "code",
   "execution_count": null,
   "metadata": {},
   "outputs": [],
   "source": []
  }
 ],
 "metadata": {
  "kernelspec": {
   "display_name": "Python 3",
   "language": "python",
   "name": "python3"
  },
  "language_info": {
   "codemirror_mode": {
    "name": "ipython",
    "version": 3
   },
   "file_extension": ".py",
   "mimetype": "text/x-python",
   "name": "python",
   "nbconvert_exporter": "python",
   "pygments_lexer": "ipython3",
   "version": "3.6.8"
  }
 },
 "nbformat": 4,
 "nbformat_minor": 2
}
