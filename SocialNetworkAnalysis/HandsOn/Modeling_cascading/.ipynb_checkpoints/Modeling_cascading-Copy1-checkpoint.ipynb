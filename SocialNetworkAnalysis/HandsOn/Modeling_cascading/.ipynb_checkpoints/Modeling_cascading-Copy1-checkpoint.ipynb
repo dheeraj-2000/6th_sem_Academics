{
 "cells": [
  {
   "cell_type": "code",
   "execution_count": 417,
   "metadata": {},
   "outputs": [],
   "source": [
    "#import igraph\n",
    "#from igraph import *\n",
    "import matplotlib.pyplot as plt\n",
    "import networkx as nx\n",
    "\n"
   ]
  },
  {
   "cell_type": "code",
   "execution_count": 418,
   "metadata": {},
   "outputs": [],
   "source": [
    "#g = nx.erdos_renyi_graph(10, 0.5)\n",
    "#nx.write_gml(g, '/home/dheeraj/my_projects/my_project_env/practice/6th_sem_Academics/SocialNetworkAnalysis/HandsOn/Modeling_cascading/main_graph.gml')"
   ]
  },
  {
   "cell_type": "code",
   "execution_count": null,
   "metadata": {},
   "outputs": [],
   "source": []
  },
  {
   "cell_type": "code",
   "execution_count": 419,
   "metadata": {},
   "outputs": [],
   "source": [
    "#def set_all_B(g):\n",
    "#    for each in g.nodes():\n",
    "#        g.nodes[each]['action'] = 'B'"
   ]
  },
  {
   "cell_type": "code",
   "execution_count": 420,
   "metadata": {},
   "outputs": [],
   "source": [
    "#def set_A(g, list1):\n",
    "#    for each in list1:\n",
    "#        g.nodes[each]['action'] ='A'"
   ]
  },
  {
   "cell_type": "code",
   "execution_count": 421,
   "metadata": {},
   "outputs": [],
   "source": [
    "def get_colors(g):\n",
    "    list1=[]\n",
    "    for each in g.nodes():\n",
    "        if g.nodes[each]['action']=='B':\n",
    "            list1.append('red')\n",
    "        else:\n",
    "            list1.append('green')\n",
    "    return list1"
   ]
  },
  {
   "cell_type": "code",
   "execution_count": 422,
   "metadata": {},
   "outputs": [],
   "source": [
    "def find_neigh(each, c, g):\n",
    "    num=0\n",
    "    for each1 in g.neighbors(each):\n",
    "        if g.nodes[each1]['action']==c:\n",
    "            num=num+1\n",
    "    return num"
   ]
  },
  {
   "cell_type": "code",
   "execution_count": 437,
   "metadata": {},
   "outputs": [],
   "source": [
    "def recalculate_options(g):\n",
    "    dict1= {}\n",
    "    #Payoff(A) =a=4\n",
    "    #Payoff(B) =b=3\n",
    "    a=5\n",
    "    b=3\n",
    "    for each in g.nodes():\n",
    "        num_A = find_neigh(each, 'A', g)\n",
    "        num_B = find_neigh(each, 'B', g)\n",
    "        payoff_A=a*num_A\n",
    "        payoff_B=b*num_B\n",
    "        if payoff_A >= payoff_B:\n",
    "            dict1[each]='A'\n",
    "        else:\n",
    "            dict1[each]= 'B'\n",
    "    return dict1"
   ]
  },
  {
   "cell_type": "code",
   "execution_count": 424,
   "metadata": {},
   "outputs": [],
   "source": [
    "def reset_node_attributes(g, action_dict):\n",
    "    for each in action_dict:\n",
    "        g.nodes[each]['action']= action_dict[each]"
   ]
  },
  {
   "cell_type": "code",
   "execution_count": 425,
   "metadata": {},
   "outputs": [],
   "source": [
    "def terminate_1(c, g):\n",
    "    f=1\n",
    "    for each in g.nodes():\n",
    "        if g.nodes[each]['action']!=c:\n",
    "            f=0\n",
    "            break\n",
    "    return f"
   ]
  },
  {
   "cell_type": "code",
   "execution_count": 426,
   "metadata": {},
   "outputs": [],
   "source": [
    "def terminate(g, count):\n",
    "    flag1=terminate_1('A', g)\n",
    "    flag2=terminate_1('B',g)\n",
    "    if flag1==1 or flag2==1 or count>=100:\n",
    "        return 1\n",
    "    else:\n",
    "        return 0"
   ]
  },
  {
   "cell_type": "code",
   "execution_count": 427,
   "metadata": {},
   "outputs": [],
   "source": [
    "#g = nx.read_gml('/home/dheeraj/my_projects/my_project_env/practice/6th_sem_Academics/SocialNetworkAnalysis/HandsOn/Modeling_cascading/main_graph.gml')"
   ]
  },
  {
   "cell_type": "code",
   "execution_count": 428,
   "metadata": {},
   "outputs": [],
   "source": [
    "#nx.draw(g, with_labels=True)"
   ]
  },
  {
   "cell_type": "code",
   "execution_count": 429,
   "metadata": {},
   "outputs": [],
   "source": [
    "#set_all_B(g)"
   ]
  },
  {
   "cell_type": "code",
   "execution_count": 430,
   "metadata": {},
   "outputs": [],
   "source": [
    "#list1=[2,5]"
   ]
  },
  {
   "cell_type": "code",
   "execution_count": null,
   "metadata": {},
   "outputs": [],
   "source": []
  },
  {
   "cell_type": "code",
   "execution_count": null,
   "metadata": {},
   "outputs": [],
   "source": []
  },
  {
   "cell_type": "code",
   "execution_count": null,
   "metadata": {},
   "outputs": [],
   "source": []
  },
  {
   "cell_type": "code",
   "execution_count": 431,
   "metadata": {},
   "outputs": [],
   "source": [
    "#colors= get_colors(g)"
   ]
  },
  {
   "cell_type": "code",
   "execution_count": 432,
   "metadata": {},
   "outputs": [],
   "source": [
    "#nx.draw(g, node_color = colors, node_size=800, with_labels=True)\n",
    "#plt.show()"
   ]
  },
  {
   "cell_type": "code",
   "execution_count": null,
   "metadata": {},
   "outputs": [],
   "source": []
  },
  {
   "cell_type": "code",
   "execution_count": 433,
   "metadata": {},
   "outputs": [],
   "source": [
    "g = nx.erdos_renyi_graph(10, 0.5)"
   ]
  },
  {
   "cell_type": "code",
   "execution_count": null,
   "metadata": {},
   "outputs": [],
   "source": []
  },
  {
   "cell_type": "code",
   "execution_count": 393,
   "metadata": {},
   "outputs": [],
   "source": [
    "#g = nx.parse_edgelist('/home/dheeraj/my_projects/my_project_env/practice/6th_sem_Academics/SocialNetworkAnalysis/HandsOn/Modeling_cascading/mygraph.csv')"
   ]
  },
  {
   "cell_type": "code",
   "execution_count": 406,
   "metadata": {},
   "outputs": [],
   "source": [
    "\n",
    "action1 = \"A\"\n",
    "action2 = \"B\"\n",
    "for each in g.nodes():\n",
    "    g.nodes[each]['action'] = action2"
   ]
  },
  {
   "cell_type": "code",
   "execution_count": 407,
   "metadata": {},
   "outputs": [],
   "source": [
    "list1 = [3,7]"
   ]
  },
  {
   "cell_type": "code",
   "execution_count": 408,
   "metadata": {},
   "outputs": [],
   "source": [
    "for each in list1:\n",
    "    g.nodes[each]['action'] = action1 "
   ]
  },
  {
   "cell_type": "code",
   "execution_count": null,
   "metadata": {},
   "outputs": [],
   "source": []
  },
  {
   "cell_type": "code",
   "execution_count": null,
   "metadata": {},
   "outputs": [],
   "source": []
  },
  {
   "cell_type": "code",
   "execution_count": 409,
   "metadata": {},
   "outputs": [
    {
     "data": {
      "text/plain": [
       "{'action': 'A'}"
      ]
     },
     "execution_count": 409,
     "metadata": {},
     "output_type": "execute_result"
    }
   ],
   "source": [
    "g.nodes[3]"
   ]
  },
  {
   "cell_type": "code",
   "execution_count": 410,
   "metadata": {},
   "outputs": [],
   "source": [
    "colors = get_colors(g)"
   ]
  },
  {
   "cell_type": "code",
   "execution_count": 411,
   "metadata": {},
   "outputs": [
    {
     "data": {
      "image/png": "[encoded data removed]",
      "text/plain": [
       "<Figure size 432x288 with 1 Axes>"
      ]
     },
     "metadata": {},
     "output_type": "display_data"
    }
   ],
   "source": [
    "nx.draw(g,node_color= colors , node_size=800,with_labels=True)\n",
    "plt.show()"
   ]
  },
  {
   "cell_type": "code",
   "execution_count": null,
   "metadata": {},
   "outputs": [],
   "source": []
  },
  {
   "cell_type": "code",
   "execution_count": null,
   "metadata": {},
   "outputs": [],
   "source": []
  },
  {
   "cell_type": "code",
   "execution_count": 412,
   "metadata": {},
   "outputs": [],
   "source": [
    "\n",
    "#action_dict  = recalculate_options(g)\n"
   ]
  },
  {
   "cell_type": "code",
   "execution_count": null,
   "metadata": {},
   "outputs": [],
   "source": []
  },
  {
   "cell_type": "code",
   "execution_count": 413,
   "metadata": {},
   "outputs": [],
   "source": [
    "#reset_node_attributes(g, action_dict)"
   ]
  },
  {
   "cell_type": "code",
   "execution_count": 414,
   "metadata": {},
   "outputs": [],
   "source": [
    "#colors = get_colors(g)"
   ]
  },
  {
   "cell_type": "code",
   "execution_count": 415,
   "metadata": {},
   "outputs": [],
   "source": [
    "#nx.draw(g,node_color= colors , node_size=800,with_labels=True)\n",
    "#plt.show()"
   ]
  },
  {
   "cell_type": "code",
   "execution_count": 416,
   "metadata": {},
   "outputs": [
    {
     "name": "stdout",
     "output_type": "stream",
     "text": [
      "cascade complete\n"
     ]
    },
    {
     "data": {
      "image/png": "[encoded data removed]",
      "text/plain": [
       "<Figure size 432x288 with 1 Axes>"
      ]
     },
     "metadata": {},
     "output_type": "display_data"
    }
   ],
   "source": [
    "flag =0\n",
    "count =0\n",
    "while(1):\n",
    "    flag = terminate(g, count)\n",
    "    if flag==1:\n",
    "        break\n",
    "    count = count+1\n",
    "    action_dict  = recalculate_options(g)\n",
    "    reset_node_attributes(g, action_dict)\n",
    "    colors = get_colors(g)\n",
    "\n",
    "c =terminate_1('A', g)\n",
    "if c==1:\n",
    "    print('cascade complete')\n",
    "else:\n",
    "    print('cascade incomplete') \n",
    "\n",
    "nx.draw(g,node_color= colors , node_size=800,with_labels=True)\n",
    "plt.show()\n",
    "\n"
   ]
  },
  {
   "cell_type": "code",
   "execution_count": 438,
   "metadata": {},
   "outputs": [
    {
     "name": "stdout",
     "output_type": "stream",
     "text": [
      "0 1 :\n",
      "cascade incomplete\n",
      "0 2 :\n",
      "cascade incomplete\n",
      "0 3 :\n",
      "cascade incomplete\n",
      "0 4 :\n",
      "cascade complete\n",
      "0 5 :\n",
      "cascade incomplete\n",
      "0 6 :\n",
      "cascade incomplete\n",
      "0 7 :\n",
      "cascade incomplete\n",
      "0 8 :\n",
      "cascade complete\n",
      "0 9 :\n",
      "cascade incomplete\n",
      "1 2 :\n",
      "cascade incomplete\n",
      "1 3 :\n",
      "cascade incomplete\n",
      "1 4 :\n",
      "cascade incomplete\n",
      "1 5 :\n",
      "cascade incomplete\n",
      "1 6 :\n",
      "cascade incomplete\n",
      "1 7 :\n",
      "cascade incomplete\n",
      "1 8 :\n",
      "cascade incomplete\n",
      "1 9 :\n",
      "cascade incomplete\n",
      "2 3 :\n",
      "cascade incomplete\n",
      "2 4 :\n",
      "cascade incomplete\n",
      "2 5 :\n",
      "cascade incomplete\n",
      "2 6 :\n",
      "cascade incomplete\n",
      "2 7 :\n",
      "cascade incomplete\n",
      "2 8 :\n",
      "cascade incomplete\n",
      "2 9 :\n",
      "cascade incomplete\n",
      "3 4 :\n",
      "cascade incomplete\n",
      "3 5 :\n",
      "cascade incomplete\n",
      "3 6 :\n",
      "cascade incomplete\n",
      "3 7 :\n",
      "cascade incomplete\n",
      "3 8 :\n",
      "cascade complete\n",
      "3 9 :\n",
      "cascade incomplete\n",
      "4 5 :\n",
      "cascade incomplete\n",
      "4 6 :\n",
      "cascade incomplete\n",
      "4 7 :\n",
      "cascade incomplete\n",
      "4 8 :\n",
      "cascade incomplete\n",
      "4 9 :\n",
      "cascade incomplete\n",
      "5 6 :\n",
      "cascade incomplete\n",
      "5 7 :\n",
      "cascade incomplete\n",
      "5 8 :\n",
      "cascade incomplete\n",
      "5 9 :\n",
      "cascade incomplete\n",
      "6 7 :\n",
      "cascade incomplete\n",
      "6 8 :\n",
      "cascade incomplete\n",
      "6 9 :\n",
      "cascade incomplete\n",
      "7 8 :\n",
      "cascade incomplete\n",
      "7 9 :\n",
      "cascade incomplete\n",
      "8 9 :\n",
      "cascade incomplete\n"
     ]
    }
   ],
   "source": [
    "for u in g.nodes():\n",
    "    for v in g.nodes():\n",
    "        if u<v:\n",
    "            print(u,v, ':')\n",
    "            list1 = []\n",
    "            list1.append(u)\n",
    "            list1.append(v)\n",
    "            \n",
    "            \n",
    "            action1 = \"A\"\n",
    "            action2 = \"B\"\n",
    "            for each in g.nodes():\n",
    "                g.nodes[each]['action'] = action2\n",
    "                \n",
    "            for each in list1:\n",
    "                g.nodes[each]['action'] = action1 \n",
    "                \n",
    "            flag =0\n",
    "            count =0\n",
    "            while(1):\n",
    "                flag = terminate(g, count)\n",
    "                if flag==1:\n",
    "                    break\n",
    "                count = count+1\n",
    "                action_dict  = recalculate_options(g)\n",
    "                reset_node_attributes(g, action_dict)\n",
    "            colors = get_colors(g)\n",
    "\n",
    "            c =terminate_1('A', g)\n",
    "            if c==1:\n",
    "                print('cascade complete')\n",
    "            else:\n",
    "                print('cascade incomplete') \n",
    "\n",
    "#nx.draw(g,node_color= colors , node_size=800,with_labels=True)\n",
    "#plt.show()"
   ]
  },
  {
   "cell_type": "code",
   "execution_count": null,
   "metadata": {},
   "outputs": [],
   "source": []
  }
 ],
 "metadata": {
  "kernelspec": {
   "display_name": "Python 3",
   "language": "python",
   "name": "python3"
  },
  "language_info": {
   "codemirror_mode": {
    "name": "ipython",
    "version": 3
   },
   "file_extension": ".py",
   "mimetype": "text/x-python",
   "name": "python",
   "nbconvert_exporter": "python",
   "pygments_lexer": "ipython3",
   "version": "3.6.8"
  }
 },
 "nbformat": 4,
 "nbformat_minor": 2
}
