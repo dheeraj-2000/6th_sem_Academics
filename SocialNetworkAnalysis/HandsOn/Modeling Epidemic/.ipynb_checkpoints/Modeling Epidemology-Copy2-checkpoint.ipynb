{
 "cells": [
  {
   "cell_type": "code",
   "execution_count": 1,
   "metadata": {},
   "outputs": [],
   "source": [
    "import matplotlib.pyplot as plt\n",
    "import networkx as nx\n",
    "from igraph import *\n",
    "import random"
   ]
  },
  {
   "cell_type": "code",
   "execution_count": null,
   "metadata": {},
   "outputs": [],
   "source": []
  },
  {
   "cell_type": "code",
   "execution_count": 13,
   "metadata": {
    "scrolled": true
   },
   "outputs": [],
   "source": [
    "G1 = Graph.Read('/home/dheeraj/my_projects/my_project_env/practice/6th_sem_Academics/SocialNetworkAnalysis/HandsOn/epidemic/karate.gml')"
   ]
  },
  {
   "cell_type": "code",
   "execution_count": 14,
   "metadata": {},
   "outputs": [],
   "source": [
    "# plot(G1)"
   ]
  },
  {
   "cell_type": "code",
   "execution_count": 15,
   "metadata": {},
   "outputs": [
    {
     "data": {
      "text/plain": [
       "34"
      ]
     },
     "execution_count": 15,
     "metadata": {},
     "output_type": "execute_result"
    }
   ],
   "source": [
    "G1.vcount()"
   ]
  },
  {
   "cell_type": "code",
   "execution_count": 16,
   "metadata": {},
   "outputs": [],
   "source": [
    "# node_list = list()\n",
    "# for i in range(0,G1.vcount()):\n",
    "#     node_list.append(i)\n",
    "# #print(node_list)\n",
    "# susceptible_nodes = list()\n",
    "node_list = list()\n",
    "for i in range(0,G1.vcount()):\n",
    "    node_list.append(i)\n",
    "#print(node_list)\n",
    "infectious_nodes = list()"
   ]
  },
  {
   "cell_type": "code",
   "execution_count": 17,
   "metadata": {},
   "outputs": [],
   "source": [
    "# susceptible = \"susceptible\"\n",
    "# for item in node_:\n",
    "#     G1.vs[item]['state'] = infectious             ## Giving the initial behaviour to each node of the network       "
   ]
  },
  {
   "cell_type": "code",
   "execution_count": 18,
   "metadata": {},
   "outputs": [],
   "source": [
    "# infected_seed = []                                    ## Create an empty list for infected seed list\n",
    "# n= int(input(\"Enter number of inital seeds that you want to give: \"))      ## ENter the number of initial seeds that you're infecting\n",
    "\n",
    "# for i in range(0,n):\n",
    "#     seed_val = int(input('Enter seed value: '))\n",
    "#     infected_seed.append(seed_val)                  ## Appending the seeds with new behaviour in an list\n",
    "    \n",
    "# print('Initial seed input given by the user is: ', infected_seed) \n",
    "\n",
    "def seed_nodes():\n",
    "    seed_node = node_list[13:14]\n",
    "    for node in seed_node:\n",
    "        infectious_nodes.append(node)\n",
    "    return seed_node\n",
    "seednodes = seed_nodes()"
   ]
  },
  {
   "cell_type": "code",
   "execution_count": 19,
   "metadata": {},
   "outputs": [],
   "source": [
    "# def get_colors(G):\n",
    "#     list1 = []\n",
    "#     for each in node_list:\n",
    "#         if G.vs[\"status\"][each] == \"exposed\":\n",
    "#             list1.append(\"pink\")\n",
    "#         elif G.vs[\"status\"][each] == \"infectious\":\n",
    "#             list1.append(\"red\")\n",
    "#         elif G.vs[\"status\"][each] == \"recovered\":\n",
    "#             list1.append(\"yellow\")\n",
    "#         else:\n",
    "# #             G.vs[\"status\"][each] == \"susceptible\":\n",
    "#             list1.append(\"blue\")\n",
    "# #         elif G.vs[\"status\"][each] == \"empty\":\n",
    "# #             list1.append(\"white\")\n",
    "# #         else:\n",
    "# #             list1.append(\"white\")\n",
    "            \n",
    "#     return list1\n",
    "# colors = get_colors(G1)\n",
    "# G1.vs[\"colors\"] = colors\n",
    "# plot(G1, vertex_color = colors)\n",
    "\n"
   ]
  },
  {
   "cell_type": "code",
   "execution_count": 20,
   "metadata": {},
   "outputs": [
    {
     "ename": "KeyError",
     "evalue": "'Attribute does not exist'",
     "output_type": "error",
     "traceback": [
      "\u001b[0;31m---------------------------------------------------------------------------\u001b[0m",
      "\u001b[0;31mKeyError\u001b[0m                                  Traceback (most recent call last)",
      "\u001b[0;32m<ipython-input-20-afc21e383dd2>\u001b[0m in \u001b[0;36m<module>\u001b[0;34m\u001b[0m\n\u001b[1;32m     50\u001b[0m \u001b[0;34m\u001b[0m\u001b[0m\n\u001b[1;32m     51\u001b[0m     \u001b[0;32mreturn\u001b[0m \u001b[0mlist1\u001b[0m\u001b[0;34m\u001b[0m\u001b[0;34m\u001b[0m\u001b[0m\n\u001b[0;32m---> 52\u001b[0;31m \u001b[0mcolors\u001b[0m \u001b[0;34m=\u001b[0m \u001b[0mget_colors\u001b[0m\u001b[0;34m(\u001b[0m\u001b[0mG1\u001b[0m\u001b[0;34m)\u001b[0m\u001b[0;34m\u001b[0m\u001b[0;34m\u001b[0m\u001b[0m\n\u001b[0m\u001b[1;32m     53\u001b[0m \u001b[0mG1\u001b[0m\u001b[0;34m.\u001b[0m\u001b[0mvs\u001b[0m\u001b[0;34m[\u001b[0m\u001b[0;34m\"colors\"\u001b[0m\u001b[0;34m]\u001b[0m \u001b[0;34m=\u001b[0m \u001b[0mcolors\u001b[0m\u001b[0;34m\u001b[0m\u001b[0;34m\u001b[0m\u001b[0m\n\u001b[1;32m     54\u001b[0m \u001b[0;31m# plot(G1, vertex_color = colors)\u001b[0m\u001b[0;34m\u001b[0m\u001b[0;34m\u001b[0m\u001b[0;34m\u001b[0m\u001b[0m\n",
      "\u001b[0;32m<ipython-input-20-afc21e383dd2>\u001b[0m in \u001b[0;36mget_colors\u001b[0;34m(G1)\u001b[0m\n\u001b[1;32m     36\u001b[0m     \u001b[0mlist1\u001b[0m \u001b[0;34m=\u001b[0m \u001b[0;34m[\u001b[0m\u001b[0;34m]\u001b[0m\u001b[0;34m\u001b[0m\u001b[0;34m\u001b[0m\u001b[0m\n\u001b[1;32m     37\u001b[0m     \u001b[0;32mfor\u001b[0m \u001b[0meach\u001b[0m \u001b[0;32min\u001b[0m \u001b[0mnode_list\u001b[0m\u001b[0;34m:\u001b[0m\u001b[0;34m\u001b[0m\u001b[0;34m\u001b[0m\u001b[0m\n\u001b[0;32m---> 38\u001b[0;31m         \u001b[0;32mif\u001b[0m \u001b[0mG1\u001b[0m\u001b[0;34m.\u001b[0m\u001b[0mvs\u001b[0m\u001b[0;34m[\u001b[0m\u001b[0;34m\"status\"\u001b[0m\u001b[0;34m]\u001b[0m\u001b[0;34m[\u001b[0m\u001b[0meach\u001b[0m\u001b[0;34m]\u001b[0m \u001b[0;34m==\u001b[0m \u001b[0;34m\"exposed\"\u001b[0m\u001b[0;34m:\u001b[0m\u001b[0;34m\u001b[0m\u001b[0;34m\u001b[0m\u001b[0m\n\u001b[0m\u001b[1;32m     39\u001b[0m             \u001b[0mlist1\u001b[0m\u001b[0;34m.\u001b[0m\u001b[0mappend\u001b[0m\u001b[0;34m(\u001b[0m\u001b[0;34m\"pink\"\u001b[0m\u001b[0;34m)\u001b[0m\u001b[0;34m\u001b[0m\u001b[0;34m\u001b[0m\u001b[0m\n\u001b[1;32m     40\u001b[0m         \u001b[0;32melif\u001b[0m \u001b[0mG1\u001b[0m\u001b[0;34m.\u001b[0m\u001b[0mvs\u001b[0m\u001b[0;34m[\u001b[0m\u001b[0;34m\"status\"\u001b[0m\u001b[0;34m]\u001b[0m\u001b[0;34m[\u001b[0m\u001b[0meach\u001b[0m\u001b[0;34m]\u001b[0m \u001b[0;34m==\u001b[0m \u001b[0;34m\"infectious\"\u001b[0m\u001b[0;34m:\u001b[0m\u001b[0;34m\u001b[0m\u001b[0;34m\u001b[0m\u001b[0m\n",
      "\u001b[0;31mKeyError\u001b[0m: 'Attribute does not exist'"
     ]
    }
   ],
   "source": [
    "# def neighbors(G,node):\n",
    "#     neighbour_nodes = G.neighbors(node)\n",
    "#     return neighbour_nodes\n",
    "# #neighbors_nodes = neighbors(G1,node)\n",
    "# susceptible_nodes = list()\n",
    "# def set_susceptible(G,nodelist):\n",
    "#     G.vs[nodelist][\"status\"] = \"susceptible\"\n",
    "# set_susceptible(G1,susceptible_nodes)\n",
    "\n",
    "# exposed_nodes = list()\n",
    "# # esposed nodes assignment\n",
    "# def set_exposed(G,nodelist):\n",
    "#     G.vs[nodelist][\"status\"] = \"exposed\"\n",
    "# set_exposed(G1,exposed_nodes)\n",
    "\n",
    "# # susceptible nodes assignment\n",
    "# def set_infectious(G,nodelist):\n",
    "#     G.vs[nodelist][\"status\"] = \"infectious\"\n",
    "# set_infectious(G1,infectious_nodes)\n",
    "\n",
    "# recovered_nodes = list()\n",
    "# # recoved nodes assignment\n",
    "# def set_recovered(G,nodelist):\n",
    "#     G.vs[nodelist][\"status\"] = \"recovered\"\n",
    "# set_recovered(G1,recovered_nodes)\n",
    "\n",
    "# def set_infected_nodes(G,seednodes):\n",
    "#     for node in seednodes:\n",
    "#         G.vs[node][\"status\"] = \"infectious\"\n",
    "# set_infected_nodes(G1,seednodes)\n",
    "# def set_empty(G,nodelist):\n",
    "#     G.vs[nodelist][\"status\"] = \"empty\"\n",
    "    \n",
    "    \n",
    "def get_colors(G1):\n",
    "    list1 = []\n",
    "    for each in node_list:\n",
    "        if G1.vs[\"status\"][each] == \"exposed\":\n",
    "            list1.append(\"pink\")\n",
    "        elif G1.vs[\"status\"][each] == \"infectious\":\n",
    "            list1.append(\"red\")\n",
    "        elif G1.vs[\"status\"][each] == \"recovered\":\n",
    "            list1.append(\"yellow\")\n",
    "        elif G1.vs[\"status\"][each] == \"susceptible\":\n",
    "            list1.append(\"blue\")\n",
    "        elif G1.vs[\"status\"][each] == \"empty\":\n",
    "            list1.append(\"white\")\n",
    "        else:\n",
    "            list1.append(\"white\")\n",
    "            \n",
    "    return list1\n",
    "colors = get_colors(G1)\n",
    "G1.vs[\"colors\"] = colors\n",
    "# plot(G1, vertex_color = colors)"
   ]
  },
  {
   "cell_type": "code",
   "execution_count": 2,
   "metadata": {},
   "outputs": [
    {
     "ename": "NameError",
     "evalue": "name 'infectious_nodes' is not defined",
     "output_type": "error",
     "traceback": [
      "\u001b[0;31m---------------------------------------------------------------------------\u001b[0m",
      "\u001b[0;31mNameError\u001b[0m                                 Traceback (most recent call last)",
      "\u001b[0;32m<ipython-input-2-159c2d6ed223>\u001b[0m in \u001b[0;36m<module>\u001b[0;34m\u001b[0m\n\u001b[1;32m     13\u001b[0m \u001b[0;32mwhile\u001b[0m\u001b[0;34m(\u001b[0m\u001b[0mt\u001b[0m\u001b[0;34m)\u001b[0m\u001b[0;34m:\u001b[0m\u001b[0;34m\u001b[0m\u001b[0;34m\u001b[0m\u001b[0m\n\u001b[1;32m     14\u001b[0m \u001b[0;34m\u001b[0m\u001b[0m\n\u001b[0;32m---> 15\u001b[0;31m     \u001b[0;32mif\u001b[0m \u001b[0mlen\u001b[0m\u001b[0;34m(\u001b[0m\u001b[0minfectious_nodes\u001b[0m\u001b[0;34m)\u001b[0m \u001b[0;34m==\u001b[0m \u001b[0;36m0\u001b[0m\u001b[0;34m:\u001b[0m\u001b[0;34m\u001b[0m\u001b[0;34m\u001b[0m\u001b[0m\n\u001b[0m\u001b[1;32m     16\u001b[0m         \u001b[0;32mbreak\u001b[0m\u001b[0;34m\u001b[0m\u001b[0;34m\u001b[0m\u001b[0m\n\u001b[1;32m     17\u001b[0m     \u001b[0;32mfor\u001b[0m \u001b[0mitem\u001b[0m \u001b[0;32min\u001b[0m \u001b[0minfectious_nodes\u001b[0m\u001b[0;34m:\u001b[0m\u001b[0;34m\u001b[0m\u001b[0;34m\u001b[0m\u001b[0m\n",
      "\u001b[0;31mNameError\u001b[0m: name 'infectious_nodes' is not defined"
     ]
    }
   ],
   "source": [
    "time = 0\n",
    "time_of_expose = 2\n",
    "time_of_infectious =3\n",
    "time_of_recovered = 1\n",
    "\n",
    "susceptible_nodes = list()\n",
    "exposed_nodes = list()\n",
    "recovered_nodes = list()\n",
    "def neighbors(G,node):\n",
    "    neighbour_nodes = G.neighbors(node)\n",
    "    return neighbour_nodes\n",
    "t=10\n",
    "while(t):   \n",
    "    \n",
    "    if len(infectious_nodes) == 0:\n",
    "        break\n",
    "    for item in infectious_nodes:\n",
    "        time = time + 1\n",
    "        #if timestamp == 20:\n",
    "            #break\n",
    "        #people prone to infection\n",
    "        neighbors_nodes = neighbors(G1,item)\n",
    "        for nodes in neighbors_nodes:\n",
    "            if nodes not in recovered_nodes:\n",
    "#                 set_susceptible(G1,nodes)\n",
    "                G1.vs[nodes][\"status\"] = \"susceptible\"\n",
    "                if nodes not in susceptible_nodes:\n",
    "                    susceptible_nodes.append(nodes)\n",
    "\n",
    "        # people who are infected\n",
    "        for nodes in susceptible_nodes:    \n",
    "            prob = random.uniform(0,1)\n",
    "            #print(prob)\n",
    "            if prob >= 0.5:\n",
    "#                 set_exposed(G1,nodes)\n",
    "                G1.vs[nodes][\"status\"] = \"exposed\"\n",
    "                if nodes not in exposed_nodes:\n",
    "                    exposed_nodes.append(nodes)\n",
    "                susceptible_nodes.remove(nodes)\n",
    "        #infectious nodes p = 0.5\n",
    "        for nodes in exposed_nodes:\n",
    "            prob = random.uniform(0,1)\n",
    "            if prob >= 0.5:\n",
    "#                 set_infectious(G1, nodes)\n",
    "                G1.vs[nodes][\"status\"] = \"infectious\"\n",
    "                if nodes not in infectious_nodes:\n",
    "                    infectious_nodes.append(nodes)\n",
    "        if time == time_of_expose:\n",
    "            for nodes in exposed_nodes:\n",
    "                prob = random.uniform(0,1)\n",
    "                if prob >= 0.5:\n",
    "                    exposed_nodes.remove(nodes)\n",
    "                    if nodes in infectious_nodes:\n",
    "                        infectious_nodes.remove(nodes)\n",
    "#                     set_recovered(G1,nodes)\n",
    "                    G1.vs[nodes][\"status\"] = \"recovered\"\n",
    "                    if nodes not in recovered_nodes:\n",
    "                        recovered_nodes.append(nodes)\n",
    "        if time == time_of_infectious:\n",
    "            for nodes in infectious_nodes:\n",
    "                prob = random.uniform(0,1)\n",
    "                if prob >= 0.5:\n",
    "                    infectious_nodes.remove(nodes)\n",
    "#                     set_recovered(G1,nodes)\n",
    "                    G1.vs[nodes][\"status\"] = \"recovered\"\n",
    "                    if nodes not in recovered_nodes:\n",
    "                        recovered_nodes.append(nodes)\n",
    "        if time ==time_of_recovered:\n",
    "            for nodes in recovered_nodes:\n",
    "                prob = random.uniform(0,1)\n",
    "                if prob >= 0.8:\n",
    "                    recovered_nodes.remove(nodes)\n",
    "                    #set_empty(G1,nodes)\n",
    "        #print(timestamp)\n",
    "\n",
    "#         def get_colors(G1):\n",
    "#             list1 = []\n",
    "#             for each in node_list:\n",
    "#                 if G1.vs[\"status\"][each] == \"exposed\":\n",
    "#                     list1.append(\"pink\")\n",
    "#                 elif G1.vs[\"status\"][each] == \"infectious\":\n",
    "#                     list1.append(\"red\")\n",
    "#                 elif G1.vs[\"status\"][each] == \"recovered\":\n",
    "#                     list1.append(\"yellow\")\n",
    "#                 elif G1.vs[\"status\"][each] == \"susceptible\":\n",
    "#                     list1.append(\"blue\")\n",
    "#                 elif G1.vs[\"status\"][each] == \"empty\":\n",
    "#                     list1.append(\"white\")\n",
    "#                 else:\n",
    "#                     list1.append(\"white\")\n",
    "            \n",
    "#             return list1\n",
    "#         colors = get_colors(G1)\n",
    "#         G1.vs[\"colors\"] = colors\n",
    "\n",
    "#         plot(G1, vertex_color = colors)\n",
    "        \n",
    "#         print(\"susceptible nodes: \", susceptible_nodes)\n",
    "#         print(\"exposed nodes: \",exposed_nodes)\n",
    "#         print(\"recovered nodes: \",recovered_nodes)\n",
    "#         print(\"infectcious nodes: \",infectious_nodes)\n",
    "        t=t-1\n",
    "    #if timestamp == 20:\n",
    "#         plot(G1)\n",
    "        #break"
   ]
  },
  {
   "cell_type": "code",
   "execution_count": null,
   "metadata": {},
   "outputs": [],
   "source": [
    "colors = get_colors(G1)\n",
    "G1.vs[\"colors\"] = colors\n",
    "plot(G1, \"fig_{}.png\".format(timestamp),vertex_color = colors, label = True)"
   ]
  },
  {
   "cell_type": "code",
   "execution_count": null,
   "metadata": {},
   "outputs": [],
   "source": []
  },
  {
   "cell_type": "code",
   "execution_count": null,
   "metadata": {},
   "outputs": [],
   "source": []
  },
  {
   "cell_type": "code",
   "execution_count": null,
   "metadata": {},
   "outputs": [],
   "source": []
  }
 ],
 "metadata": {
  "kernelspec": {
   "display_name": "Python 3",
   "language": "python",
   "name": "python3"
  },
  "language_info": {
   "codemirror_mode": {
    "name": "ipython",
    "version": 3
   },
   "file_extension": ".py",
   "mimetype": "text/x-python",
   "name": "python",
   "nbconvert_exporter": "python",
   "pygments_lexer": "ipython3",
   "version": "3.6.8"
  }
 },
 "nbformat": 4,
 "nbformat_minor": 2
}
