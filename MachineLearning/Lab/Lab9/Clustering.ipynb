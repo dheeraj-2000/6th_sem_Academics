{
 "cells": [
  {
   "cell_type": "code",
   "execution_count": 1,
   "metadata": {},
   "outputs": [],
   "source": [
    "import pandas as pd\n",
    "import numpy as np\n",
    "from sklearn.preprocessing import StandardScaler\n",
    "from sklearn.cluster import KMeans\n",
    "import matplotlib.pyplot as plt\n",
    "import random as rd"
   ]
  },
  {
   "cell_type": "code",
   "execution_count": 2,
   "metadata": {},
   "outputs": [],
   "source": [
    "# Import the data\n",
    "data_frame = pd.read_csv('/home/dheeraj/my_projects/my_project_env/practice/6th_sem_Academics/MachineLearning/Lab/Lab9/OldFaithfulData.csv')"
   ]
  },
  {
   "cell_type": "code",
   "execution_count": 3,
   "metadata": {},
   "outputs": [],
   "source": [
    "from mlxtend.preprocessing import standardize\n",
    "std_df = standardize(data_frame, columns=['eruptions', 'waiting'])"
   ]
  },
  {
   "cell_type": "code",
   "execution_count": 4,
   "metadata": {},
   "outputs": [
    {
     "data": {
      "image/png": "[encoded data removed]",
      "text/plain": [
       "<Figure size 360x360 with 1 Axes>"
      ]
     },
     "metadata": {
      "needs_background": "light"
     },
     "output_type": "display_data"
    }
   ],
   "source": [
    "num = 1\n",
    "J = {}\n",
    "count = 0\n",
    "k = 2\n",
    "centroids = {1:[1,-1],2:[-1,1]}\n",
    "fig = plt.figure(figsize=(5, 5))\n",
    "plt.scatter(std_df[\"eruptions\"],std_df[\"waiting\"],color = 'blue')\n",
    "colmap = {1:'red',2:'green'}\n",
    "for i in centroids.keys():\n",
    "    plt.scatter(*centroids[i],color=colmap[i] , marker = 'X' , s = 300)\n",
    "fig.savefig('plot_{}.png'.format(num), dpi=fig.dpi)  \n",
    "num+=1\n",
    "plt.show()"
   ]
  },
  {
   "cell_type": "code",
   "execution_count": null,
   "metadata": {},
   "outputs": [],
   "source": [
    "def assignment(std_df, centroids):\n",
    "    global count\n",
    "    for i in centroids.keys():\n",
    "        # sqrt((x1 - x2)^2 - (y1 - y2)^2)\n",
    "        std_df['distance_from_{}'.format(i)] = (np.sqrt((std_df['eruptions'] - centroids[i][0]) ** 2\n",
    "                                                    + (std_df['waiting'] - centroids[i][1]) ** 2))\n",
    "    \n",
    "    error = {count:std_df[[\"distance_from_1\",\"distance_from_2\"]].min(axis = 1).sum()}\n",
    "    J.update(error)\n",
    "    count+=1\n",
    "    centroid_distance_cols = ['distance_from_{}'.format(i) for i in centroids.keys()]\n",
    "    std_df['closest'] = std_df.loc[:, centroid_distance_cols].idxmin(axis=1)\n",
    "    std_df['closest'] = std_df['closest'].map(lambda x: int(x.lstrip('distance_from_')))\n",
    "    std_df['color'] = std_df['closest'].map(lambda x: colmap[x])\n",
    "    return std_df\n",
    "\n",
    "std_df = assignment(std_df, centroids)\n",
    "print(std_df.head())\n",
    "\n",
    "fig = plt.figure(figsize=(5, 5))\n",
    "plt.scatter(std_df['eruptions'], std_df['waiting'], color=std_df['color'], alpha=0.5)\n",
    "for i in centroids.keys():\n",
    "     plt.scatter(*centroids[i], color=colmap[i] ,marker='X',s = 300)\n",
    "plt.show()\n",
    "fig.savefig('plot{}.png'.format(num), dpi=fig.dpi)  \n",
    "num+=1"
   ]
  },
  {
   "cell_type": "code",
   "execution_count": null,
   "metadata": {},
   "outputs": [],
   "source": [
    "import copy\n",
    "\n",
    "old_centroids = copy.deepcopy(centroids)\n",
    "\n",
    "def update(k):\n",
    "    for i in centroids.keys():\n",
    "        centroids[i][0] = np.mean(std_df[std_df['closest'] == i]['eruptions'])\n",
    "        centroids[i][1] = np.mean(std_df[std_df['closest'] == i]['waiting'])\n",
    "    return k\n",
    "\n",
    "centroids = update(centroids)\n",
    "    \n",
    "fig = plt.figure(figsize=(5, 5))\n",
    "ax = plt.axes()\n",
    "plt.scatter(std_df['eruptions'], std_df['waiting'], color=std_df['color'], alpha=0.5)\n",
    "for i in centroids.keys():\n",
    "    plt.scatter(*centroids[i], color=colmap[i] , marker = 'X' , s =300)\n",
    "fig.savefig('plot{}.png'.format(num), dpi=fig.dpi)  \n",
    "num+=1\n",
    "plt.show()"
   ]
  },
  {
   "cell_type": "code",
   "execution_count": null,
   "metadata": {},
   "outputs": [],
   "source": [
    "while True:\n",
    "    closest_centroids = std_df['closest'].copy(deep=True)\n",
    "    centroids = update(centroids)\n",
    "    std_df = assignment(std_df, centroids)\n",
    "    fig = plt.figure(figsize=(5, 5))\n",
    "    plt.scatter(std_df['eruptions'], std_df['waiting'], color=std_df['color'], alpha=0.5)\n",
    "    for i in centroids.keys():\n",
    "        plt.scatter(*centroids[i], color=colmap[i] , marker = 'X' , s = 300)\n",
    "    plt.show()\n",
    "    fig.savefig('plot{}.png'.format(num), dpi=fig.dpi)  \n",
    "    num+=1\n",
    "    if closest_centroids.equals(std_df['closest']):\n",
    "        break\n",
    "\n",
    "print(std_df)"
   ]
  },
  {
   "cell_type": "code",
   "execution_count": null,
   "metadata": {},
   "outputs": [],
   "source": [
    "fig, ax = plt.subplots(figsize=(8, 8))\n",
    "plt.plot(list(J.keys()),list(J.values()), color ='green')\n",
    "plt.scatter(list(J.keys()),list(J.values()))\n",
    "plt.ylabel(\"Error\")\n",
    "plt.xlabel(\"Number of iterations\") \n",
    "num+=1\n",
    "plt.show()"
   ]
  }
 ],
 "metadata": {
  "kernelspec": {
   "display_name": "Python 3",
   "language": "python",
   "name": "python3"
  },
  "language_info": {
   "codemirror_mode": {
    "name": "ipython",
    "version": 3
   },
   "file_extension": ".py",
   "mimetype": "text/x-python",
   "name": "python",
   "nbconvert_exporter": "python",
   "pygments_lexer": "ipython3",
   "version": "3.6.8"
  }
 },
 "nbformat": 4,
 "nbformat_minor": 2
}
