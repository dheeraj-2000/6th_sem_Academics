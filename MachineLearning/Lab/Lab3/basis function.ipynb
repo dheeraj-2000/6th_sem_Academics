{
 "cells": [
  {
   "cell_type": "code",
   "execution_count": 20,
   "metadata": {},
   "outputs": [],
   "source": [
    "from scipy.stats import norm\n",
    "import matplotlib.pyplot as plt\n",
    "import numpy as np\n",
    "import pandas as pd\n",
    "from mpl_toolkits.mplot3d import Axes3D"
   ]
  },
  {
   "cell_type": "code",
   "execution_count": 21,
   "metadata": {},
   "outputs": [],
   "source": [
    "x = np.linspace(0, 2*np.pi, 10)\n",
    "y = np.sin(x)"
   ]
  },
  {
   "cell_type": "code",
   "execution_count": 22,
   "metadata": {},
   "outputs": [
    {
     "data": {
      "text/plain": [
       "<matplotlib.collections.PathCollection at 0x7ff78326a400>"
      ]
     },
     "execution_count": 22,
     "metadata": {},
     "output_type": "execute_result"
    },
    {
     "data": {
      "image/png": "[encoded data removed]",
      "text/plain": [
       "<Figure size 432x288 with 1 Axes>"
      ]
     },
     "metadata": {
      "needs_background": "light"
     },
     "output_type": "display_data"
    }
   ],
   "source": [
    "plt.scatter(x, y)"
   ]
  },
  {
   "cell_type": "code",
   "execution_count": 23,
   "metadata": {},
   "outputs": [],
   "source": [
    "y_function = y + np.random.normal(0, 0.1,10)"
   ]
  },
  {
   "cell_type": "code",
   "execution_count": 24,
   "metadata": {},
   "outputs": [
    {
     "data": {
      "image/png": "[encoded data removed]",
      "text/plain": [
       "<Figure size 432x288 with 1 Axes>"
      ]
     },
     "metadata": {
      "needs_background": "light"
     },
     "output_type": "display_data"
    }
   ],
   "source": [
    "plt.scatter(x, y_function)\n",
    "#plt.scatter(x, y_function)\n",
    "val = np.linspace (0,2*np.pi, 100)\n",
    "plt.plot (val, np.sin (val), color = \"green\")\n",
    "plt.show ()\n"
   ]
  },
  {
   "cell_type": "code",
   "execution_count": 25,
   "metadata": {},
   "outputs": [],
   "source": [
    "def data (x, m):\n",
    "    df = []\n",
    "    for i in x:\n",
    "        z = []\n",
    "        for j in range (m):\n",
    "            z.append (i**j)\n",
    "        df.append (z)\n",
    "    df = pd.DataFrame (df)\n",
    "    return df"
   ]
  },
  {
   "cell_type": "code",
   "execution_count": 26,
   "metadata": {},
   "outputs": [
    {
     "data": {
      "text/html": [
       "<div>\n",
       "<style scoped>\n",
       "    .dataframe tbody tr th:only-of-type {\n",
       "        vertical-align: middle;\n",
       "    }\n",
       "\n",
       "    .dataframe tbody tr th {\n",
       "        vertical-align: top;\n",
       "    }\n",
       "\n",
       "    .dataframe thead th {\n",
       "        text-align: right;\n",
       "    }\n",
       "</style>\n",
       "<table border=\"1\" class=\"dataframe\">\n",
       "  <thead>\n",
       "    <tr style=\"text-align: right;\">\n",
       "      <th></th>\n",
       "      <th>0</th>\n",
       "      <th>1</th>\n",
       "      <th>2</th>\n",
       "      <th>3</th>\n",
       "      <th>4</th>\n",
       "      <th>5</th>\n",
       "      <th>6</th>\n",
       "    </tr>\n",
       "  </thead>\n",
       "  <tbody>\n",
       "    <tr>\n",
       "      <th>0</th>\n",
       "      <td>1.0</td>\n",
       "      <td>0.000000</td>\n",
       "      <td>0.000000</td>\n",
       "      <td>0.000000</td>\n",
       "      <td>0.000000</td>\n",
       "      <td>0.000000</td>\n",
       "      <td>0.000000</td>\n",
       "    </tr>\n",
       "    <tr>\n",
       "      <th>1</th>\n",
       "      <td>1.0</td>\n",
       "      <td>0.698132</td>\n",
       "      <td>0.487388</td>\n",
       "      <td>0.340261</td>\n",
       "      <td>0.237547</td>\n",
       "      <td>0.165839</td>\n",
       "      <td>0.115777</td>\n",
       "    </tr>\n",
       "    <tr>\n",
       "      <th>2</th>\n",
       "      <td>1.0</td>\n",
       "      <td>1.396263</td>\n",
       "      <td>1.949551</td>\n",
       "      <td>2.722087</td>\n",
       "      <td>3.800751</td>\n",
       "      <td>5.306850</td>\n",
       "      <td>7.409760</td>\n",
       "    </tr>\n",
       "    <tr>\n",
       "      <th>3</th>\n",
       "      <td>1.0</td>\n",
       "      <td>2.094395</td>\n",
       "      <td>4.386491</td>\n",
       "      <td>9.187045</td>\n",
       "      <td>19.241302</td>\n",
       "      <td>40.298889</td>\n",
       "      <td>84.401795</td>\n",
       "    </tr>\n",
       "    <tr>\n",
       "      <th>4</th>\n",
       "      <td>1.0</td>\n",
       "      <td>2.792527</td>\n",
       "      <td>7.798206</td>\n",
       "      <td>21.776699</td>\n",
       "      <td>60.812016</td>\n",
       "      <td>169.819185</td>\n",
       "      <td>474.224625</td>\n",
       "    </tr>\n",
       "    <tr>\n",
       "      <th>5</th>\n",
       "      <td>1.0</td>\n",
       "      <td>3.490659</td>\n",
       "      <td>12.184697</td>\n",
       "      <td>42.532615</td>\n",
       "      <td>148.466836</td>\n",
       "      <td>518.247023</td>\n",
       "      <td>1809.023379</td>\n",
       "    </tr>\n",
       "    <tr>\n",
       "      <th>6</th>\n",
       "      <td>1.0</td>\n",
       "      <td>4.188790</td>\n",
       "      <td>17.545963</td>\n",
       "      <td>73.496360</td>\n",
       "      <td>307.860831</td>\n",
       "      <td>1289.564433</td>\n",
       "      <td>5401.714865</td>\n",
       "    </tr>\n",
       "    <tr>\n",
       "      <th>7</th>\n",
       "      <td>1.0</td>\n",
       "      <td>4.886922</td>\n",
       "      <td>23.882006</td>\n",
       "      <td>116.709497</td>\n",
       "      <td>570.350197</td>\n",
       "      <td>2787.256871</td>\n",
       "      <td>13621.106657</td>\n",
       "    </tr>\n",
       "    <tr>\n",
       "      <th>8</th>\n",
       "      <td>1.0</td>\n",
       "      <td>5.585054</td>\n",
       "      <td>31.192824</td>\n",
       "      <td>174.213593</td>\n",
       "      <td>972.992256</td>\n",
       "      <td>5434.213907</td>\n",
       "      <td>30350.375979</td>\n",
       "    </tr>\n",
       "    <tr>\n",
       "      <th>9</th>\n",
       "      <td>1.0</td>\n",
       "      <td>6.283185</td>\n",
       "      <td>39.478418</td>\n",
       "      <td>248.050213</td>\n",
       "      <td>1558.545457</td>\n",
       "      <td>9792.629913</td>\n",
       "      <td>61528.908389</td>\n",
       "    </tr>\n",
       "  </tbody>\n",
       "</table>\n",
       "</div>"
      ],
      "text/plain": [
       "     0         1          2           3            4            5  \\\n",
       "0  1.0  0.000000   0.000000    0.000000     0.000000     0.000000   \n",
       "1  1.0  0.698132   0.487388    0.340261     0.237547     0.165839   \n",
       "2  1.0  1.396263   1.949551    2.722087     3.800751     5.306850   \n",
       "3  1.0  2.094395   4.386491    9.187045    19.241302    40.298889   \n",
       "4  1.0  2.792527   7.798206   21.776699    60.812016   169.819185   \n",
       "5  1.0  3.490659  12.184697   42.532615   148.466836   518.247023   \n",
       "6  1.0  4.188790  17.545963   73.496360   307.860831  1289.564433   \n",
       "7  1.0  4.886922  23.882006  116.709497   570.350197  2787.256871   \n",
       "8  1.0  5.585054  31.192824  174.213593   972.992256  5434.213907   \n",
       "9  1.0  6.283185  39.478418  248.050213  1558.545457  9792.629913   \n",
       "\n",
       "              6  \n",
       "0      0.000000  \n",
       "1      0.115777  \n",
       "2      7.409760  \n",
       "3     84.401795  \n",
       "4    474.224625  \n",
       "5   1809.023379  \n",
       "6   5401.714865  \n",
       "7  13621.106657  \n",
       "8  30350.375979  \n",
       "9  61528.908389  "
      ]
     },
     "execution_count": 26,
     "metadata": {},
     "output_type": "execute_result"
    }
   ],
   "source": [
    "df = data (x, 7)\n",
    "df"
   ]
  },
  {
   "cell_type": "code",
   "execution_count": null,
   "metadata": {},
   "outputs": [],
   "source": []
  },
  {
   "cell_type": "code",
   "execution_count": null,
   "metadata": {},
   "outputs": [],
   "source": []
  }
 ],
 "metadata": {
  "kernelspec": {
   "display_name": "Python 3",
   "language": "python",
   "name": "python3"
  },
  "language_info": {
   "codemirror_mode": {
    "name": "ipython",
    "version": 3
   },
   "file_extension": ".py",
   "mimetype": "text/x-python",
   "name": "python",
   "nbconvert_exporter": "python",
   "pygments_lexer": "ipython3",
   "version": "3.6.8"
  }
 },
 "nbformat": 4,
 "nbformat_minor": 2
}
