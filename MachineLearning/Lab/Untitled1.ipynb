{
 "cells": [
  {
   "cell_type": "code",
   "execution_count": 1,
   "metadata": {},
   "outputs": [],
   "source": [
    "import numpy as np\n",
    "import matplotlib.pyplot as plt\n"
   ]
  },
  {
   "cell_type": "code",
   "execution_count": 37,
   "metadata": {},
   "outputs": [
    {
     "data": {
      "image/png": "[encoded data removed]",
      "text/plain": [
       "<Figure size 432x288 with 1 Axes>"
      ]
     },
     "metadata": {
      "needs_background": "light"
     },
     "output_type": "display_data"
    }
   ],
   "source": [
    "w = np.array([[-3.2],[1],[1],[1]])\n",
    "w\n",
    "#X = np.array([[0,1,0,1],[0,0,1,1]])\n",
    "X = np.array([[0,0], [0,1], [1,0], [1,1]])\n",
    "\n",
    "Y = np.array([[-1],[-1],[-1],[1]])\n",
    "eta = 0.1\n",
    "w\n",
    "#z= X.transpose()\n",
    "#z\n",
    "#plt.scatter(X[0,:],X[1,:])\n",
    "\n",
    "plt.figure()\n",
    "for index, x in enumerate(X):\n",
    "    if Y[index] == 1:\n",
    "        plt.scatter(x[0], x[1], c = 'm', marker = 'o')\n",
    "    else:\n",
    "        plt.scatter(x[0], x[1], c = 'r', marker = 'x')"
   ]
  },
  {
   "cell_type": "code",
   "execution_count": 47,
   "metadata": {},
   "outputs": [
    {
     "data": {
      "text/plain": [
       "array([[2., 2.]])"
      ]
     },
     "execution_count": 47,
     "metadata": {},
     "output_type": "execute_result"
    }
   ],
   "source": [
    "z = w.transpose() \n",
    "np.matmul(z, X)"
   ]
  },
  {
   "cell_type": "code",
   "execution_count": 38,
   "metadata": {},
   "outputs": [],
   "source": [
    "#plt.scatter(X[0,:],X[1,:])"
   ]
  },
  {
   "cell_type": "code",
   "execution_count": 39,
   "metadata": {},
   "outputs": [],
   "source": [
    "def fun(z):\n",
    "    yn = 1/(1+ np.exp(-z))\n",
    "    return yn"
   ]
  },
  {
   "cell_type": "code",
   "execution_count": 41,
   "metadata": {},
   "outputs": [
    {
     "data": {
      "text/plain": [
       "array([[-3.2],\n",
       "       [ 1. ],\n",
       "       [ 1. ],\n",
       "       [ 1. ]])"
      ]
     },
     "execution_count": 41,
     "metadata": {},
     "output_type": "execute_result"
    }
   ],
   "source": [
    "def sgmoid(w):\n",
    "    w[2] = w[2]+0.1\n",
    "    yy = (-w[0]/w[2]) -((w[1]/w[2])*xx)\n",
    "    plt.plot(xx,yy)\n",
    "    plt.xlim(0,3)\n",
    "    plt.ylim(0,3)\n",
    "w"
   ]
  },
  {
   "cell_type": "code",
   "execution_count": null,
   "metadata": {},
   "outputs": [],
   "source": []
  },
  {
   "cell_type": "code",
   "execution_count": 42,
   "metadata": {},
   "outputs": [],
   "source": [
    "for i in range(4):\n",
    "    z = w.transpose()\n",
    "    zz = np.matmul(z,X)\n",
    "    sgmoid(z)\n",
    "    \n",
    "    wn = z  + eta*(yn-Y[i])\n",
    "    \n",
    "    \n",
    "    "
   ]
  },
  {
   "cell_type": "code",
   "execution_count": null,
   "metadata": {},
   "outputs": [],
   "source": []
  }
 ],
 "metadata": {
  "kernelspec": {
   "display_name": "Python 3",
   "language": "python",
   "name": "python3"
  },
  "language_info": {
   "codemirror_mode": {
    "name": "ipython",
    "version": 3
   },
   "file_extension": ".py",
   "mimetype": "text/x-python",
   "name": "python",
   "nbconvert_exporter": "python",
   "pygments_lexer": "ipython3",
   "version": "3.6.8"
  }
 },
 "nbformat": 4,
 "nbformat_minor": 2
}
